{
  "nbformat": 4,
  "nbformat_minor": 0,
  "metadata": {
    "colab": {
      "provenance": [],
      "toc_visible": true,
      "authorship_tag": "ABX9TyNCRP/tkB2kH1+aE0sOGA1a",
      "include_colab_link": true
    },
    "kernelspec": {
      "name": "python3",
      "display_name": "Python 3"
    },
    "language_info": {
      "name": "python"
    }
  },
  "cells": [
    {
      "cell_type": "markdown",
      "metadata": {
        "id": "view-in-github",
        "colab_type": "text"
      },
      "source": [
        "<a href=\"https://colab.research.google.com/github/Ommanchanda/Python_Practice/blob/main/Stats_Basic.ipynb\" target=\"_parent\"><img src=\"https://colab.research.google.com/assets/colab-badge.svg\" alt=\"Open In Colab\"/></a>"
      ]
    },
    {
      "cell_type": "markdown",
      "source": [
        "# **STATISTICS** **BASICS**"
      ],
      "metadata": {
        "id": "8ecG8BK1k7VE"
      }
    },
    {
      "cell_type": "markdown",
      "source": [
        "# **QUESTIONS**"
      ],
      "metadata": {
        "id": "3ralKWGUlN4Y"
      }
    },
    {
      "cell_type": "markdown",
      "source": [
        "1)What is statistics, and why is it important?"
      ],
      "metadata": {
        "id": "lVTdKuvIlS4O"
      }
    },
    {
      "cell_type": "markdown",
      "source": [
        "Statistics is the study of making sense out of data. Statistics is important beacuse it helps us understand trends,public opinion and make right business decisions."
      ],
      "metadata": {
        "id": "3bqFhDqClceQ"
      }
    },
    {
      "cell_type": "markdown",
      "source": [
        "2) What are the two main types of statistics?"
      ],
      "metadata": {
        "id": "v3yJ9EyTlca2"
      }
    },
    {
      "cell_type": "markdown",
      "source": [
        "The 2 main types of Statistics are Descriptive Statistics and inferrential Statistics."
      ],
      "metadata": {
        "id": "N49ytqlUlcYU"
      }
    },
    {
      "cell_type": "markdown",
      "source": [
        "3) What are descriptive statistics?"
      ],
      "metadata": {
        "id": "kg9UVeDjlcVy"
      }
    },
    {
      "cell_type": "markdown",
      "source": [
        "Branch of Statistics that deals with describing/summarizing numerical data so that we can represent the data using only a few values like mean, varience etc is decriptive statistics."
      ],
      "metadata": {
        "id": "l6wFW2q5lcTQ"
      }
    },
    {
      "cell_type": "markdown",
      "source": [
        "4) What is inferential statistics?"
      ],
      "metadata": {
        "id": "_Np0xqhulcQd"
      }
    },
    {
      "cell_type": "markdown",
      "source": [
        "Making inferences from data sample to come to conclusions on data population is called inferential statistics."
      ],
      "metadata": {
        "id": "HB6pZXOdlcNp"
      }
    },
    {
      "cell_type": "markdown",
      "source": [
        "5) What is sampling in statistics?"
      ],
      "metadata": {
        "id": "MB3pObzJlcLD"
      }
    },
    {
      "cell_type": "markdown",
      "source": [
        "The process of selecting a sample of the population given in the dataset is called sampling."
      ],
      "metadata": {
        "id": "DaYDjhuRlcIb"
      }
    },
    {
      "cell_type": "markdown",
      "source": [
        "6) What are the different types of sampling methods?"
      ],
      "metadata": {
        "id": "VXOvL91dlcFw"
      }
    },
    {
      "cell_type": "markdown",
      "source": [
        "The different types of sampling methods are:-\n",
        "\n",
        "Simple Random Sampling\n",
        "\n",
        "Stratisfied Sampling\n",
        "\n",
        "Cluster Sampling\n",
        "\n",
        "Systematic Sampling"
      ],
      "metadata": {
        "id": "8-cBInaxlcC7"
      }
    },
    {
      "cell_type": "markdown",
      "source": [
        "7) What is the difference between random and non-random sampling?"
      ],
      "metadata": {
        "id": "FerykEsLlcAR"
      }
    },
    {
      "cell_type": "markdown",
      "source": [
        "In random sampling sample data points are randomly selected from the population but in non random sampling the selection of sample data points is done on the basis of some specified method."
      ],
      "metadata": {
        "id": "adadpal9lb9d"
      }
    },
    {
      "cell_type": "markdown",
      "source": [
        "8) Define and give examples of qualitative and quantitative data?"
      ],
      "metadata": {
        "id": "NpzQ17p8lb6o"
      }
    },
    {
      "cell_type": "markdown",
      "source": [
        "Data that can be quantified and analysed on the basis numerical parameters like mean, median , mode , standard deviation etc is quantitative data. Example:- Weight of students in class, Footfall at a public place at diffferent hours etc.\n",
        "\n",
        "Data that can be described in categories like grades(A,B,C), weather( cloudy,sunny) is called qualitative data. Two cloudy days might not be exactly similar but the are put in the same category. Difference in data points lying in some category is not defined in qualitative statistics. Example:- Grades, Weather etc."
      ],
      "metadata": {
        "id": "qsa1RysPlb4I"
      }
    },
    {
      "cell_type": "markdown",
      "source": [
        "9) What are the different types of data in statistics?"
      ],
      "metadata": {
        "id": "W8oU1QHDlb1I"
      }
    },
    {
      "cell_type": "markdown",
      "source": [
        "The different type of data in statistics are numerical and categorical."
      ],
      "metadata": {
        "id": "WiRXSDW3lbyc"
      }
    },
    {
      "cell_type": "markdown",
      "source": [
        "10) Explain nominal, ordinal, interval, and ratio levels of measurement."
      ],
      "metadata": {
        "id": "WmS-D1IYlbvp"
      }
    },
    {
      "cell_type": "markdown",
      "source": [
        "When there is no order of preference in data it falls in nominal scale of mesurement. Example: data of colours(red,blue etc.)\n",
        "\n",
        "When the order matters in given data it falls in ordinal scale of measurement.Example : Salary(low,high,mid).\n",
        "\n",
        "When data is represented such that order matters as well as difference in data points is measureable it falls in interval scale of measurement. Example: Data represented on histograms,line chart etc.\n",
        "\n",
        "When data is represented such that order matters as well as difference in data points is given in ratio and is measureable it falls in ratio scale of measurement."
      ],
      "metadata": {
        "id": "xnj4zuAMlbsz"
      }
    },
    {
      "cell_type": "markdown",
      "source": [
        "11) What is the measure of central tendency?"
      ],
      "metadata": {
        "id": "FVUFfquJlbqF"
      }
    },
    {
      "cell_type": "markdown",
      "source": [
        "Measure of Central Tendency refers to values that can be used the represent the data as a whole. These are the central values such as mean.median,mode."
      ],
      "metadata": {
        "id": "k6aPX3_PlbnZ"
      }
    },
    {
      "cell_type": "markdown",
      "source": [
        "12)  Define mean, median, and mode."
      ],
      "metadata": {
        "id": "trU_Sx5Hlbkk"
      }
    },
    {
      "cell_type": "markdown",
      "source": [
        "Mean is the numerical average of all the values in the dataset.\n",
        "\n",
        "Median is the middle value of the dataset when arranged in ascending order.\n",
        "\n",
        "Mode is the value that occours the most number of times in the dataset."
      ],
      "metadata": {
        "id": "rzJNcKiUlbiE"
      }
    },
    {
      "cell_type": "markdown",
      "source": [
        "13) What is the significance of the measure of central tendency?"
      ],
      "metadata": {
        "id": "QlR7-3XulbfE"
      }
    },
    {
      "cell_type": "markdown",
      "source": [
        "The measures of central tendency are significant because they allow us the represent complex large datasets that might have largely varying values by the use of just 3 numbers. They also give us an idea about the distribution of the data."
      ],
      "metadata": {
        "id": "AQuY902IlbcS"
      }
    },
    {
      "cell_type": "markdown",
      "source": [
        "14) What is variance, and how is it calculated?"
      ],
      "metadata": {
        "id": "722r3CzGw4CC"
      }
    },
    {
      "cell_type": "markdown",
      "source": [
        "Varience is a measure of the dispersion of data. It is measured by taking the summation of square of difference of each datapoint from the mean of data and dividing it n-1 for sample varience and n for population varience where n is the total number of values in the dataset."
      ],
      "metadata": {
        "id": "MUB_SqQQw3-p"
      }
    },
    {
      "cell_type": "markdown",
      "source": [
        "15) What is standard deviation, and why is it important?"
      ],
      "metadata": {
        "id": "P7S7RQTFw37L"
      }
    },
    {
      "cell_type": "markdown",
      "source": [
        "Standard deviation is a measure of dispersion of data and it is measured by taking the square root of varience. Standard deviation is important because it tells us about the distribution of data and helps identify outliers."
      ],
      "metadata": {
        "id": "QDv3E1Euw33r"
      }
    },
    {
      "cell_type": "markdown",
      "source": [
        "16) Define and explain the term range in statistics."
      ],
      "metadata": {
        "id": "d7XSSBfpw30L"
      }
    },
    {
      "cell_type": "markdown",
      "source": [
        "Range in statistics refers to difference of highest and lowest data point in the dataset."
      ],
      "metadata": {
        "id": "Xc2v1JD0w3wh"
      }
    },
    {
      "cell_type": "markdown",
      "source": [
        "17) What is the difference between variance and standard deviation?"
      ],
      "metadata": {
        "id": "rCDEKf2Ow3tX"
      }
    },
    {
      "cell_type": "markdown",
      "source": [
        "Both varience and Standard deviation are used to measure the dispersion of data. The difference between them is that Standard Deviation is square root of varience."
      ],
      "metadata": {
        "id": "oK05rKqZw3p0"
      }
    },
    {
      "cell_type": "markdown",
      "source": [
        "18) What is skewness in a dataset?"
      ],
      "metadata": {
        "id": "C9O3Jfjzw3mQ"
      }
    },
    {
      "cell_type": "markdown",
      "source": [
        "Skewness is a measure of distribution of data. It tells us wether the data is symmetric, skewed towards the right or skewed towards the left."
      ],
      "metadata": {
        "id": "FCrRy1POw3it"
      }
    },
    {
      "cell_type": "markdown",
      "source": [
        "19) What does it mean if a dataset is positively or negatively skewed?"
      ],
      "metadata": {
        "id": "_FfFfO4jw3fX"
      }
    },
    {
      "cell_type": "markdown",
      "source": [
        "Data being positively skewed means that the mode of the data lies before the median and the graph shows a tail towards the right.\n",
        "\n",
        "Data being negetively skewed means that the mode of the data lies after the median and the graph shows a tail towards the left."
      ],
      "metadata": {
        "id": "npVlNOnvw3bi"
      }
    },
    {
      "cell_type": "markdown",
      "source": [
        "20)  Define and explain kurtosis."
      ],
      "metadata": {
        "id": "50tjHobcw3YX"
      }
    },
    {
      "cell_type": "markdown",
      "source": [
        "Kurtosis is a measure of the tailedness of a distribution. Tailedness is how often outliers occur."
      ],
      "metadata": {
        "id": "j-wCJBaPw3Uk"
      }
    },
    {
      "cell_type": "markdown",
      "source": [
        "21) What is the purpose of covariance?"
      ],
      "metadata": {
        "id": "3KWxPoe8w3Q_"
      }
    },
    {
      "cell_type": "markdown",
      "source": [
        "The purpose of covarience is to measure how change in one variable brings change to the value of other variable."
      ],
      "metadata": {
        "id": "pgS2Jlg1w3M_"
      }
    },
    {
      "cell_type": "markdown",
      "source": [
        "22)  What does correlation measure in statistics?"
      ],
      "metadata": {
        "id": "ixnbBjDMw3I9"
      }
    },
    {
      "cell_type": "markdown",
      "source": [
        "Correlation measures the amount of change that varying value of one variable will bring to the value of other variable."
      ],
      "metadata": {
        "id": "AJ6FlFiJw3E2"
      }
    },
    {
      "cell_type": "markdown",
      "source": [
        "23) What is the difference between covariance and correlation?"
      ],
      "metadata": {
        "id": "ss_Luqsqw3A3"
      }
    },
    {
      "cell_type": "markdown",
      "source": [
        "Covarience just measures the direction of linear relationship while correlation measures both direction and strength of the linear relationship. Covarience has dimensions hence covarience in 2 cases can often not be compared but correlation is dimensionless hence correltion of a pair of variable can be compared to correlation of another pair ."
      ],
      "metadata": {
        "id": "fVWKbYO2w28o"
      }
    },
    {
      "cell_type": "markdown",
      "source": [
        "24) What are some real-world applications of statistics?"
      ],
      "metadata": {
        "id": "PG3ojAl-w1jj"
      }
    },
    {
      "cell_type": "markdown",
      "source": [
        "Predicting election results.\n",
        "\n",
        "Predicting the results in sports.\n",
        "\n",
        "Deciding what clothes to carry while travelling to a new place.\n",
        "\n",
        "Making informed business decisions."
      ],
      "metadata": {
        "id": "l-fvpBrd1gpN"
      }
    },
    {
      "cell_type": "markdown",
      "source": [
        "# **PRACTICAL QUESTIONS**"
      ],
      "metadata": {
        "id": "rtGlccz11gJN"
      }
    },
    {
      "cell_type": "markdown",
      "source": [
        "1) How do you calculate the mean, median, and mode of a dataset?"
      ],
      "metadata": {
        "id": "Vq_4_o8q3wBg"
      }
    },
    {
      "cell_type": "code",
      "source": [
        "import pandas as pd\n",
        "data = (5, 10, 15, 10, 20, 10, 25)\n",
        "df = pd.DataFrame({'values': data})\n",
        "mean_val = df['values'].mean()\n",
        "median_val = df['values'].median()\n",
        "mode_val = df['values'].mode()[0]\n",
        "print(mean_val)\n",
        "print(median_val)\n",
        "print(mode_val)"
      ],
      "metadata": {
        "id": "YwGHA_WrlNjs",
        "colab": {
          "base_uri": "https://localhost:8080/"
        },
        "outputId": "5bfdb4d0-9843-4e2e-e267-83ef70ef9782"
      },
      "execution_count": null,
      "outputs": [
        {
          "output_type": "stream",
          "name": "stdout",
          "text": [
            "13.571428571428571\n",
            "10.0\n",
            "10\n"
          ]
        }
      ]
    },
    {
      "cell_type": "markdown",
      "source": [
        "2) Write a Python program to compute the variance and standard deviation of a dataset"
      ],
      "metadata": {
        "id": "y03X45dWVQms"
      }
    },
    {
      "cell_type": "code",
      "source": [
        "import math\n",
        "def var(data):\n",
        "  mean = sum(data)/len(data)\n",
        "  variance = sum((x-mean)**2 for x in data)/len(data)\n",
        "  std=math.sqrt(variance)\n",
        "\n",
        "  return variance,std\n",
        "\n",
        "var(data)\n"
      ],
      "metadata": {
        "id": "UmNDEjUHk5Sr",
        "colab": {
          "base_uri": "https://localhost:8080/"
        },
        "outputId": "7bde09e3-bf1d-4738-e478-bfd705e3b772"
      },
      "execution_count": null,
      "outputs": [
        {
          "output_type": "execute_result",
          "data": {
            "text/plain": [
              "(40.816326530612244, 6.388765649999399)"
            ]
          },
          "metadata": {},
          "execution_count": 3
        }
      ]
    },
    {
      "cell_type": "markdown",
      "source": [
        "3) Create a dataset and classify it into nominal, ordinal, interval, and ratio types"
      ],
      "metadata": {
        "id": "_D7E99aaWhsJ"
      }
    },
    {
      "cell_type": "code",
      "source": [
        "data = {\n",
        "    'Name': ['Alice', 'Bob', 'Charlie', 'Diana'],\n",
        "    'Gender': ['Female', 'Male', 'Male', 'Female'],\n",
        "    'Education_Level': ['Bachelor', 'Master', 'PhD', 'High School'],\n",
        "    'IQ_Score': [110, 125, 135, 100],\n",
        "    'Monthly_Income': [5000, 7000, 10000, 4500],\n",
        "    'Joining_Year': [2015, 2018, 2020, 2016],\n",
        "    'Performance_Bonus (%)': [5.0, 10.0, 12.5, 7.5]\n",
        "}\n",
        "\n",
        "# column like gender has categories like male and female but there is no order in them; hence it is nominal\n",
        "# column like education has categories but the order is important too example: Master>Bachelor\n",
        "# column like joining year is not giving exact date of joining rather it is giving an interval hence it is interval scaled data\n",
        "# column like performance bonus has values as a percentage of salary hence it is ratio scaled data"
      ],
      "metadata": {
        "id": "JsuXm-fbVdho"
      },
      "execution_count": null,
      "outputs": []
    },
    {
      "cell_type": "markdown",
      "source": [
        "4)  Implement sampling techniques like random sampling and stratified sampling?\n"
      ],
      "metadata": {
        "id": "iJB1KaZpZEPT"
      }
    },
    {
      "cell_type": "code",
      "source": [
        "data = {\n",
        "    'Employee_ID': [1,2,3,4,5,6,7,8,9,10,11,12,13,1,15,16,17,18,19,20],\n",
        "    'Department': ['HR', 'Engineering', 'Marketing', 'Sales'] * 5,\n",
        "    'Salary': [50000, 80000, 62000, 70000, 50000, 80000, 62000, 70000,\n",
        "               52000, 79000, 63000, 72000, 53000, 82000, 61000, 69000,\n",
        "               54000, 83000, 60000, 68000]\n",
        "}\n",
        "\n",
        "df = pd.DataFrame(data)\n",
        "\n",
        "random_sample = df.sample(frac=0.25, random_state=42)\n",
        "\n",
        "print(\"Random Sample:\")\n",
        "print(random_sample)\n",
        "\n",
        "\n",
        "\n",
        "\n",
        "frac = 0.5\n",
        "\n",
        "stratified_sample = df.groupby('Department', group_keys=False).apply(\n",
        "    lambda x: x.sample(frac=frac, random_state=42)\n",
        ")\n",
        "\n",
        "print(\" Stratified Sample Department Counts:\\n\", stratified_sample['Department'].value_counts())\n",
        "\n",
        "print(\"\\n Stratified Sample - Rows:\")\n",
        "print(stratified_sample.reset_index(drop=True))"
      ],
      "metadata": {
        "colab": {
          "base_uri": "https://localhost:8080/"
        },
        "id": "tVDE79uLY_nC",
        "outputId": "ef0cedcd-d1f4-4183-89d7-d84f7378ffd8"
      },
      "execution_count": null,
      "outputs": [
        {
          "output_type": "stream",
          "name": "stdout",
          "text": [
            "Random Sample:\n",
            "    Employee_ID   Department  Salary\n",
            "0             1           HR   50000\n",
            "17           18  Engineering   83000\n",
            "15           16        Sales   69000\n",
            "1             2  Engineering   80000\n",
            "8             9           HR   52000\n",
            " Stratified Sample Department Counts:\n",
            " Department\n",
            "Engineering    2\n",
            "HR             2\n",
            "Marketing      2\n",
            "Sales          2\n",
            "Name: count, dtype: int64\n",
            "\n",
            " Stratified Sample - Rows:\n",
            "   Employee_ID   Department  Salary\n",
            "0            6  Engineering   80000\n",
            "1           18  Engineering   83000\n",
            "2            5           HR   50000\n",
            "3           17           HR   54000\n",
            "4            7    Marketing   62000\n",
            "5           19    Marketing   60000\n",
            "6            8        Sales   70000\n",
            "7           20        Sales   68000\n"
          ]
        },
        {
          "output_type": "stream",
          "name": "stderr",
          "text": [
            "<ipython-input-5-0dcac47dc1ca>:21: DeprecationWarning: DataFrameGroupBy.apply operated on the grouping columns. This behavior is deprecated, and in a future version of pandas the grouping columns will be excluded from the operation. Either pass `include_groups=False` to exclude the groupings or explicitly select the grouping columns after groupby to silence this warning.\n",
            "  stratified_sample = df.groupby('Department', group_keys=False).apply(\n"
          ]
        }
      ]
    },
    {
      "cell_type": "markdown",
      "source": [
        "5) Write a Python function to calculate the range of a dataset."
      ],
      "metadata": {
        "id": "W-274LVMcZ8m"
      }
    },
    {
      "cell_type": "code",
      "source": [
        "def calc_range(dataframe_name, col_name):\n",
        "    col_range = dataframe_name[col_name].max() - dataframe_name[col_name].min()\n",
        "    return col_range\n",
        "\n",
        "\n",
        "calc_range(df, 'Salary')\n"
      ],
      "metadata": {
        "colab": {
          "base_uri": "https://localhost:8080/"
        },
        "id": "TZeRwitGacPf",
        "outputId": "bc226714-555b-476c-9bae-f577127ca8b4"
      },
      "execution_count": null,
      "outputs": [
        {
          "output_type": "execute_result",
          "data": {
            "text/plain": [
              "33000"
            ]
          },
          "metadata": {},
          "execution_count": 6
        }
      ]
    },
    {
      "cell_type": "markdown",
      "source": [
        "6)  Create a dataset and plot its histogram to visualize skewness"
      ],
      "metadata": {
        "id": "d_vh3RzydohW"
      }
    },
    {
      "cell_type": "code",
      "source": [
        "import matplotlib.pyplot as plt\n",
        "import seaborn as sns\n",
        "\n",
        "sns.histplot(data=df,x='Salary',)\n",
        "\n",
        "#the available data doesnt have any particular skew\n"
      ],
      "metadata": {
        "colab": {
          "base_uri": "https://localhost:8080/",
          "height": 466
        },
        "id": "q4GTCcric_3F",
        "outputId": "1f125ebf-7ff4-4229-d5e7-d6540f4e4431"
      },
      "execution_count": null,
      "outputs": [
        {
          "output_type": "execute_result",
          "data": {
            "text/plain": [
              "<Axes: xlabel='Salary', ylabel='Count'>"
            ]
          },
          "metadata": {},
          "execution_count": 7
        },
        {
          "output_type": "display_data",
          "data": {
            "text/plain": [
              "<Figure size 640x480 with 1 Axes>"
            ],
            "image/png": "[encoded data removed]"
          },
          "metadata": {}
        }
      ]
    },
    {
      "cell_type": "markdown",
      "source": [
        "7) Calculate skewness and kurtosis of a dataset using Python libraries?"
      ],
      "metadata": {
        "id": "bU6x9yiDfeI9"
      }
    },
    {
      "cell_type": "code",
      "source": [
        "skew_val=df['Salary'].skew()\n",
        "print(skew_val)\n",
        "kurt_val=df['Salary'].kurt()\n",
        "print(kurt_val)"
      ],
      "metadata": {
        "colab": {
          "base_uri": "https://localhost:8080/"
        },
        "id": "VPq11sxVgiad",
        "outputId": "65ce915d-b5d2-4c36-8c82-dda333313abc"
      },
      "execution_count": null,
      "outputs": [
        {
          "output_type": "stream",
          "name": "stdout",
          "text": [
            "0.07485720451936259\n",
            "-1.2048390706144714\n"
          ]
        }
      ]
    },
    {
      "cell_type": "markdown",
      "source": [
        "8) Generate a dataset and demonstrate positive and negative skewness."
      ],
      "metadata": {
        "id": "cjS2JpVQfml3"
      }
    },
    {
      "cell_type": "code",
      "source": [
        "data2 = {\n",
        "    'Employee_ID': [1,2,3,4,5,6,7,8,9,10],\n",
        "    'Salary': [20000, 30000, 31000, 35000, 40000, 42000, 45000, 50000, 85000, 90000]\n",
        "}\n",
        "df2 = pd.DataFrame(data2)\n",
        "\n",
        "# Dataset 2\n",
        "data3 = {\n",
        "    'Employee_ID': [1,2,3,4,5,6,7,8,9,10],\n",
        "    'Salary': [25000, 30000, 45000, 60000, 75000, 77000, 81000, 83000, 88000, 93000]\n",
        "}\n",
        "df3 = pd.DataFrame(data3)\n",
        "\n",
        "# Calculate skewness\n",
        "print(\"Skewness of df2 Salary:\", df2['Salary'].skew())\n",
        "print(\"Skewness of df3 Salary:\", df3['Salary'].skew())"
      ],
      "metadata": {
        "colab": {
          "base_uri": "https://localhost:8080/"
        },
        "id": "AqFJLK7_epK-",
        "outputId": "3c407b02-56c1-4043-a1a1-3e1c3199abbd"
      },
      "execution_count": null,
      "outputs": [
        {
          "output_type": "stream",
          "name": "stdout",
          "text": [
            "Skewness of df2 Salary: 1.2005782496923918\n",
            "Skewness of df3 Salary: -0.7553342764738444\n"
          ]
        }
      ]
    },
    {
      "cell_type": "markdown",
      "source": [
        "9)  Write a Python script to calculate covariance between two datasets?"
      ],
      "metadata": {
        "id": "Ll3OqJFblFzx"
      }
    },
    {
      "cell_type": "code",
      "source": [
        "cov_sal=df2['Salary'].cov(df3['Salary'])\n",
        "print(cov_sal)"
      ],
      "metadata": {
        "colab": {
          "base_uri": "https://localhost:8080/"
        },
        "id": "2A0_sdH9ithf",
        "outputId": "36693beb-cc05-4b20-f272-2f296aa46860"
      },
      "execution_count": null,
      "outputs": [
        {
          "output_type": "stream",
          "name": "stdout",
          "text": [
            "447377777.77777773\n"
          ]
        }
      ]
    },
    {
      "cell_type": "markdown",
      "source": [
        "10) Write a Python script to calculate the correlation coefficient between two datasets"
      ],
      "metadata": {
        "id": "hLU9Qw4hmn6Q"
      }
    },
    {
      "cell_type": "code",
      "source": [
        "crr_sal=df2['Salary'].corr(df3['Salary'])\n",
        "print(crr_sal)"
      ],
      "metadata": {
        "colab": {
          "base_uri": "https://localhost:8080/"
        },
        "id": "s_17cYsUlQGl",
        "outputId": "59a2a403-b3e3-4f62-b148-d0443c587efd"
      },
      "execution_count": null,
      "outputs": [
        {
          "output_type": "stream",
          "name": "stdout",
          "text": [
            "0.7923718131763805\n"
          ]
        }
      ]
    },
    {
      "cell_type": "markdown",
      "source": [
        "11) Create a scatter plot to visualize the relationship between two variables"
      ],
      "metadata": {
        "id": "4Qw0gzk2mztp"
      }
    },
    {
      "cell_type": "code",
      "source": [
        "sns.scatterplot(data=df,x='Department',y='Salary')"
      ],
      "metadata": {
        "colab": {
          "base_uri": "https://localhost:8080/",
          "height": 466
        },
        "id": "XI3Cc71wmxwg",
        "outputId": "b91b295c-2d22-4856-f71b-c71058f2ee8f"
      },
      "execution_count": null,
      "outputs": [
        {
          "output_type": "execute_result",
          "data": {
            "text/plain": [
              "<Axes: xlabel='Department', ylabel='Salary'>"
            ]
          },
          "metadata": {},
          "execution_count": 12
        },
        {
          "output_type": "display_data",
          "data": {
            "text/plain": [
              "<Figure size 640x480 with 1 Axes>"
            ],
            "image/png": "[encoded data removed]"
          },
          "metadata": {}
        }
      ]
    },
    {
      "cell_type": "markdown",
      "source": [
        "12) Implement and compare simple random sampling and systematic sampling"
      ],
      "metadata": {
        "id": "fxcS6N7GnerU"
      }
    },
    {
      "cell_type": "code",
      "source": [
        "import numpy as np\n",
        "\n",
        "random_sample=df.sample(frac=0.25,random_state=42).reset_index(drop=True)\n",
        "print(random_sample)\n",
        "\n",
        "k=int(len(df)/4)\n",
        "\n",
        "start = np.random.randint(0, k)\n",
        "\n",
        "systematic_sample = df.iloc[start::k].reset_index(drop=True)\n",
        "\n",
        "print(systematic_sample)\n",
        "\n"
      ],
      "metadata": {
        "colab": {
          "base_uri": "https://localhost:8080/"
        },
        "id": "gRCBYsu2nRfA",
        "outputId": "fe473c50-0de2-465e-c9aa-2ad39394e479"
      },
      "execution_count": null,
      "outputs": [
        {
          "output_type": "stream",
          "name": "stdout",
          "text": [
            "   Employee_ID   Department  Salary\n",
            "0            1           HR   50000\n",
            "1           18  Engineering   83000\n",
            "2           16        Sales   69000\n",
            "3            2  Engineering   80000\n",
            "4            9           HR   52000\n",
            "   Employee_ID   Department  Salary\n",
            "0            5           HR   50000\n",
            "1           10  Engineering   79000\n",
            "2           15    Marketing   61000\n",
            "3           20        Sales   68000\n"
          ]
        }
      ]
    },
    {
      "cell_type": "markdown",
      "source": [
        "13) Calculate the mean, median, and mode of grouped data"
      ],
      "metadata": {
        "id": "F2iBRdvPqr2C"
      }
    },
    {
      "cell_type": "code",
      "source": [
        "gr_mean = df.groupby('Department')['Salary'].mean()\n",
        "gr_median = df.groupby('Department')['Salary'].median()\n",
        "gr_mode = df.groupby('Department')['Salary'].agg(lambda x: x.mode().iloc[0])\n",
        "\n",
        "print(gr_mean)\n",
        "print(gr_median)\n",
        "print(gr_mode)"
      ],
      "metadata": {
        "colab": {
          "base_uri": "https://localhost:8080/"
        },
        "id": "5qDNST2zpT7X",
        "outputId": "cc3437d4-82cd-4151-eb00-1e49eb880174"
      },
      "execution_count": null,
      "outputs": [
        {
          "output_type": "stream",
          "name": "stdout",
          "text": [
            "Department\n",
            "Engineering    80800.0\n",
            "HR             51800.0\n",
            "Marketing      61600.0\n",
            "Sales          69800.0\n",
            "Name: Salary, dtype: float64\n",
            "Department\n",
            "Engineering    80000.0\n",
            "HR             52000.0\n",
            "Marketing      62000.0\n",
            "Sales          70000.0\n",
            "Name: Salary, dtype: float64\n",
            "Department\n",
            "Engineering    80000\n",
            "HR             50000\n",
            "Marketing      62000\n",
            "Sales          70000\n",
            "Name: Salary, dtype: int64\n"
          ]
        }
      ]
    },
    {
      "cell_type": "markdown",
      "source": [
        "14) Simulate data using Python and calculate its central tendency and dispersion"
      ],
      "metadata": {
        "id": "TRIr44QptDCR"
      }
    },
    {
      "cell_type": "code",
      "source": [
        "l=[]\n",
        "i=1\n",
        "while i<=50:\n",
        "  l.append(np.random.randint(0,20))\n",
        "  i=i+1\n",
        "\n",
        "ldf=pd.DataFrame({'Num': l})\n",
        "l_mean=ldf['Num'].mean()\n",
        "l_median=ldf['Num'].median()\n",
        "l_mode=ldf['Num'].mode()\n",
        "print(l_mean)\n",
        "print(l_median)\n",
        "print(l_mode)"
      ],
      "metadata": {
        "colab": {
          "base_uri": "https://localhost:8080/"
        },
        "id": "-ImA_sctrSuo",
        "outputId": "875505e5-bd84-484b-8193-a8acb42ff859"
      },
      "execution_count": null,
      "outputs": [
        {
          "output_type": "stream",
          "name": "stdout",
          "text": [
            "10.64\n",
            "12.0\n",
            "0    13\n",
            "Name: Num, dtype: int64\n"
          ]
        }
      ]
    },
    {
      "cell_type": "markdown",
      "source": [
        "15) Use NumPy or pandas to summarize a dataset’s descriptive statistics"
      ],
      "metadata": {
        "id": "uCjg3BiZvSJY"
      }
    },
    {
      "cell_type": "code",
      "source": [
        "df.describe()"
      ],
      "metadata": {
        "colab": {
          "base_uri": "https://localhost:8080/",
          "height": 300
        },
        "id": "_JvXeHj6thyR",
        "outputId": "28f0d5a9-0f37-4d60-9976-d41f6f5d0ba6"
      },
      "execution_count": null,
      "outputs": [
        {
          "output_type": "execute_result",
          "data": {
            "text/plain": [
              "       Employee_ID        Salary\n",
              "count    20.000000     20.000000\n",
              "mean      9.850000  66000.000000\n",
              "std       6.217759  11026.284386\n",
              "min       1.000000  50000.000000\n",
              "25%       4.750000  58500.000000\n",
              "50%       9.500000  65500.000000\n",
              "75%      15.250000  73750.000000\n",
              "max      20.000000  83000.000000"
            ],
            "text/html": [
              "\n",
              "  <div id=\"df-1242c56c-d699-4503-a295-8a5e509d619e\" class=\"colab-df-container\">\n",
              "    <div>\n",
              "<style scoped>\n",
              "    .dataframe tbody tr th:only-of-type {\n",
              "        vertical-align: middle;\n",
              "    }\n",
              "\n",
              "    .dataframe tbody tr th {\n",
              "        vertical-align: top;\n",
              "    }\n",
              "\n",
              "    .dataframe thead th {\n",
              "        text-align: right;\n",
              "    }\n",
              "</style>\n",
              "<table border=\"1\" class=\"dataframe\">\n",
              "  <thead>\n",
              "    <tr style=\"text-align: right;\">\n",
              "      <th></th>\n",
              "      <th>Employee_ID</th>\n",
              "      <th>Salary</th>\n",
              "    </tr>\n",
              "  </thead>\n",
              "  <tbody>\n",
              "    <tr>\n",
              "      <th>count</th>\n",
              "      <td>20.000000</td>\n",
              "      <td>20.000000</td>\n",
              "    </tr>\n",
              "    <tr>\n",
              "      <th>mean</th>\n",
              "      <td>9.850000</td>\n",
              "      <td>66000.000000</td>\n",
              "    </tr>\n",
              "    <tr>\n",
              "      <th>std</th>\n",
              "      <td>6.217759</td>\n",
              "      <td>11026.284386</td>\n",
              "    </tr>\n",
              "    <tr>\n",
              "      <th>min</th>\n",
              "      <td>1.000000</td>\n",
              "      <td>50000.000000</td>\n",
              "    </tr>\n",
              "    <tr>\n",
              "      <th>25%</th>\n",
              "      <td>4.750000</td>\n",
              "      <td>58500.000000</td>\n",
              "    </tr>\n",
              "    <tr>\n",
              "      <th>50%</th>\n",
              "      <td>9.500000</td>\n",
              "      <td>65500.000000</td>\n",
              "    </tr>\n",
              "    <tr>\n",
              "      <th>75%</th>\n",
              "      <td>15.250000</td>\n",
              "      <td>73750.000000</td>\n",
              "    </tr>\n",
              "    <tr>\n",
              "      <th>max</th>\n",
              "      <td>20.000000</td>\n",
              "      <td>83000.000000</td>\n",
              "    </tr>\n",
              "  </tbody>\n",
              "</table>\n",
              "</div>\n",
              "    <div class=\"colab-df-buttons\">\n",
              "\n",
              "  <div class=\"colab-df-container\">\n",
              "    <button class=\"colab-df-convert\" onclick=\"convertToInteractive('df-1242c56c-d699-4503-a295-8a5e509d619e')\"\n",
              "            title=\"Convert this dataframe to an interactive table.\"\n",
              "            style=\"display:none;\">\n",
              "\n",
              "  <svg xmlns=\"http://www.w3.org/2000/svg\" height=\"24px\" viewBox=\"0 -960 960 960\">\n",
              "    <path d=\"M120-120v-720h720v720H120Zm60-500h600v-160H180v160Zm220 220h160v-160H400v160Zm0 220h160v-160H400v160ZM180-400h160v-160H180v160Zm440 0h160v-160H620v160ZM180-180h160v-160H180v160Zm440 0h160v-160H620v160Z\"/>\n",
              "  </svg>\n",
              "    </button>\n",
              "\n",
              "  <style>\n",
              "    .colab-df-container {\n",
              "      display:flex;\n",
              "      gap: 12px;\n",
              "    }\n",
              "\n",
              "    .colab-df-convert {\n",
              "      background-color: #E8F0FE;\n",
              "      border: none;\n",
              "      border-radius: 50%;\n",
              "      cursor: pointer;\n",
              "      display: none;\n",
              "      fill: #1967D2;\n",
              "      height: 32px;\n",
              "      padding: 0 0 0 0;\n",
              "      width: 32px;\n",
              "    }\n",
              "\n",
              "    .colab-df-convert:hover {\n",
              "      background-color: #E2EBFA;\n",
              "      box-shadow: 0px 1px 2px rgba(60, 64, 67, 0.3), 0px 1px 3px 1px rgba(60, 64, 67, 0.15);\n",
              "      fill: #174EA6;\n",
              "    }\n",
              "\n",
              "    .colab-df-buttons div {\n",
              "      margin-bottom: 4px;\n",
              "    }\n",
              "\n",
              "    [theme=dark] .colab-df-convert {\n",
              "      background-color: #3B4455;\n",
              "      fill: #D2E3FC;\n",
              "    }\n",
              "\n",
              "    [theme=dark] .colab-df-convert:hover {\n",
              "      background-color: #434B5C;\n",
              "      box-shadow: 0px 1px 3px 1px rgba(0, 0, 0, 0.15);\n",
              "      filter: drop-shadow(0px 1px 2px rgba(0, 0, 0, 0.3));\n",
              "      fill: #FFFFFF;\n",
              "    }\n",
              "  </style>\n",
              "\n",
              "    <script>\n",
              "      const buttonEl =\n",
              "        document.querySelector('#df-1242c56c-d699-4503-a295-8a5e509d619e button.colab-df-convert');\n",
              "      buttonEl.style.display =\n",
              "        google.colab.kernel.accessAllowed ? 'block' : 'none';\n",
              "\n",
              "      async function convertToInteractive(key) {\n",
              "        const element = document.querySelector('#df-1242c56c-d699-4503-a295-8a5e509d619e');\n",
              "        const dataTable =\n",
              "          await google.colab.kernel.invokeFunction('convertToInteractive',\n",
              "                                                    [key], {});\n",
              "        if (!dataTable) return;\n",
              "\n",
              "        const docLinkHtml = 'Like what you see? Visit the ' +\n",
              "          '<a target=\"_blank\" href=https://colab.research.google.com/notebooks/data_table.ipynb>data table notebook</a>'\n",
              "          + ' to learn more about interactive tables.';\n",
              "        element.innerHTML = '';\n",
              "        dataTable['output_type'] = 'display_data';\n",
              "        await google.colab.output.renderOutput(dataTable, element);\n",
              "        const docLink = document.createElement('div');\n",
              "        docLink.innerHTML = docLinkHtml;\n",
              "        element.appendChild(docLink);\n",
              "      }\n",
              "    </script>\n",
              "  </div>\n",
              "\n",
              "\n",
              "<div id=\"df-5fea4697-a457-4a9d-bd81-ce8421678d2a\">\n",
              "  <button class=\"colab-df-quickchart\" onclick=\"quickchart('df-5fea4697-a457-4a9d-bd81-ce8421678d2a')\"\n",
              "            title=\"Suggest charts\"\n",
              "            style=\"display:none;\">\n",
              "\n",
              "<svg xmlns=\"http://www.w3.org/2000/svg\" height=\"24px\"viewBox=\"0 0 24 24\"\n",
              "     width=\"24px\">\n",
              "    <g>\n",
              "        <path d=\"M19 3H5c-1.1 0-2 .9-2 2v14c0 1.1.9 2 2 2h14c1.1 0 2-.9 2-2V5c0-1.1-.9-2-2-2zM9 17H7v-7h2v7zm4 0h-2V7h2v10zm4 0h-2v-4h2v4z\"/>\n",
              "    </g>\n",
              "</svg>\n",
              "  </button>\n",
              "\n",
              "<style>\n",
              "  .colab-df-quickchart {\n",
              "      --bg-color: #E8F0FE;\n",
              "      --fill-color: #1967D2;\n",
              "      --hover-bg-color: #E2EBFA;\n",
              "      --hover-fill-color: #174EA6;\n",
              "      --disabled-fill-color: #AAA;\n",
              "      --disabled-bg-color: #DDD;\n",
              "  }\n",
              "\n",
              "  [theme=dark] .colab-df-quickchart {\n",
              "      --bg-color: #3B4455;\n",
              "      --fill-color: #D2E3FC;\n",
              "      --hover-bg-color: #434B5C;\n",
              "      --hover-fill-color: #FFFFFF;\n",
              "      --disabled-bg-color: #3B4455;\n",
              "      --disabled-fill-color: #666;\n",
              "  }\n",
              "\n",
              "  .colab-df-quickchart {\n",
              "    background-color: var(--bg-color);\n",
              "    border: none;\n",
              "    border-radius: 50%;\n",
              "    cursor: pointer;\n",
              "    display: none;\n",
              "    fill: var(--fill-color);\n",
              "    height: 32px;\n",
              "    padding: 0;\n",
              "    width: 32px;\n",
              "  }\n",
              "\n",
              "  .colab-df-quickchart:hover {\n",
              "    background-color: var(--hover-bg-color);\n",
              "    box-shadow: 0 1px 2px rgba(60, 64, 67, 0.3), 0 1px 3px 1px rgba(60, 64, 67, 0.15);\n",
              "    fill: var(--button-hover-fill-color);\n",
              "  }\n",
              "\n",
              "  .colab-df-quickchart-complete:disabled,\n",
              "  .colab-df-quickchart-complete:disabled:hover {\n",
              "    background-color: var(--disabled-bg-color);\n",
              "    fill: var(--disabled-fill-color);\n",
              "    box-shadow: none;\n",
              "  }\n",
              "\n",
              "  .colab-df-spinner {\n",
              "    border: 2px solid var(--fill-color);\n",
              "    border-color: transparent;\n",
              "    border-bottom-color: var(--fill-color);\n",
              "    animation:\n",
              "      spin 1s steps(1) infinite;\n",
              "  }\n",
              "\n",
              "  @keyframes spin {\n",
              "    0% {\n",
              "      border-color: transparent;\n",
              "      border-bottom-color: var(--fill-color);\n",
              "      border-left-color: var(--fill-color);\n",
              "    }\n",
              "    20% {\n",
              "      border-color: transparent;\n",
              "      border-left-color: var(--fill-color);\n",
              "      border-top-color: var(--fill-color);\n",
              "    }\n",
              "    30% {\n",
              "      border-color: transparent;\n",
              "      border-left-color: var(--fill-color);\n",
              "      border-top-color: var(--fill-color);\n",
              "      border-right-color: var(--fill-color);\n",
              "    }\n",
              "    40% {\n",
              "      border-color: transparent;\n",
              "      border-right-color: var(--fill-color);\n",
              "      border-top-color: var(--fill-color);\n",
              "    }\n",
              "    60% {\n",
              "      border-color: transparent;\n",
              "      border-right-color: var(--fill-color);\n",
              "    }\n",
              "    80% {\n",
              "      border-color: transparent;\n",
              "      border-right-color: var(--fill-color);\n",
              "      border-bottom-color: var(--fill-color);\n",
              "    }\n",
              "    90% {\n",
              "      border-color: transparent;\n",
              "      border-bottom-color: var(--fill-color);\n",
              "    }\n",
              "  }\n",
              "</style>\n",
              "\n",
              "  <script>\n",
              "    async function quickchart(key) {\n",
              "      const quickchartButtonEl =\n",
              "        document.querySelector('#' + key + ' button');\n",
              "      quickchartButtonEl.disabled = true;  // To prevent multiple clicks.\n",
              "      quickchartButtonEl.classList.add('colab-df-spinner');\n",
              "      try {\n",
              "        const charts = await google.colab.kernel.invokeFunction(\n",
              "            'suggestCharts', [key], {});\n",
              "      } catch (error) {\n",
              "        console.error('Error during call to suggestCharts:', error);\n",
              "      }\n",
              "      quickchartButtonEl.classList.remove('colab-df-spinner');\n",
              "      quickchartButtonEl.classList.add('colab-df-quickchart-complete');\n",
              "    }\n",
              "    (() => {\n",
              "      let quickchartButtonEl =\n",
              "        document.querySelector('#df-5fea4697-a457-4a9d-bd81-ce8421678d2a button');\n",
              "      quickchartButtonEl.style.display =\n",
              "        google.colab.kernel.accessAllowed ? 'block' : 'none';\n",
              "    })();\n",
              "  </script>\n",
              "</div>\n",
              "\n",
              "    </div>\n",
              "  </div>\n"
            ],
            "application/vnd.google.colaboratory.intrinsic+json": {
              "type": "dataframe",
              "summary": "{\n  \"name\": \"df\",\n  \"rows\": 8,\n  \"fields\": [\n    {\n      \"column\": \"Employee_ID\",\n      \"properties\": {\n        \"dtype\": \"number\",\n        \"std\": 7.023541182440851,\n        \"min\": 1.0,\n        \"max\": 20.0,\n        \"num_unique_values\": 7,\n        \"samples\": [\n          20.0,\n          9.85,\n          9.5\n        ],\n        \"semantic_type\": \"\",\n        \"description\": \"\"\n      }\n    },\n    {\n      \"column\": \"Salary\",\n      \"properties\": {\n        \"dtype\": \"number\",\n        \"std\": 29835.06003837826,\n        \"min\": 20.0,\n        \"max\": 83000.0,\n        \"num_unique_values\": 8,\n        \"samples\": [\n          66000.0,\n          65500.0,\n          20.0\n        ],\n        \"semantic_type\": \"\",\n        \"description\": \"\"\n      }\n    }\n  ]\n}"
            }
          },
          "metadata": {},
          "execution_count": 16
        }
      ]
    },
    {
      "cell_type": "markdown",
      "source": [
        "16) Plot a boxplot to understand the spread and identify outliers"
      ],
      "metadata": {
        "id": "pb1jlgX5v6y_"
      }
    },
    {
      "cell_type": "code",
      "source": [
        "sns.boxplot(data=df,x='Salary')\n",
        "# no outliers in this dataset"
      ],
      "metadata": {
        "colab": {
          "base_uri": "https://localhost:8080/",
          "height": 466
        },
        "id": "0rWGMhagvadG",
        "outputId": "3f1e440b-8938-4678-865a-0fdc66b580d1"
      },
      "execution_count": null,
      "outputs": [
        {
          "output_type": "execute_result",
          "data": {
            "text/plain": [
              "<Axes: xlabel='Salary'>"
            ]
          },
          "metadata": {},
          "execution_count": 17
        },
        {
          "output_type": "display_data",
          "data": {
            "text/plain": [
              "<Figure size 640x480 with 1 Axes>"
            ],
            "image/png": "[encoded data removed]"
          },
          "metadata": {}
        }
      ]
    },
    {
      "cell_type": "markdown",
      "source": [
        "17) Calculate the interquartile range (IQR) of a dataset"
      ],
      "metadata": {
        "id": "hl7LSeOEwPh-"
      }
    },
    {
      "cell_type": "code",
      "source": [
        "Q1=df['Salary'].quantile(0.25)\n",
        "Q3=df['Salary'].quantile(0.75)\n",
        "\n",
        "IQR=Q3-Q1\n",
        "print(f\"Inter Quartile range is {IQR}\")\n"
      ],
      "metadata": {
        "colab": {
          "base_uri": "https://localhost:8080/"
        },
        "id": "WvjxG_pVwJQi",
        "outputId": "14a7c0e2-666b-4be7-c109-0b5e37fdc8a5"
      },
      "execution_count": null,
      "outputs": [
        {
          "output_type": "stream",
          "name": "stdout",
          "text": [
            "Inter Quartile range is 15250.0\n"
          ]
        }
      ]
    },
    {
      "cell_type": "markdown",
      "source": [
        "18)  Implement Z-score normalization and explain its significance"
      ],
      "metadata": {
        "id": "lBam1kI7wwAv"
      }
    },
    {
      "cell_type": "code",
      "source": [
        " mean=df['Salary'].mean()\n",
        " std=df['Salary'].std()\n",
        "\n",
        " df['Z-Score']=(df['Salary']-mean)/std\n",
        " df.head()\n",
        "\n",
        " # helps us use feature with differenet units. Makes the distribution have mean=0 and std=1"
      ],
      "metadata": {
        "colab": {
          "base_uri": "https://localhost:8080/",
          "height": 206
        },
        "id": "6i_nhJrWwniw",
        "outputId": "3e9911d4-30ed-4c80-8f7b-d996c1674b8d"
      },
      "execution_count": null,
      "outputs": [
        {
          "output_type": "execute_result",
          "data": {
            "text/plain": [
              "   Employee_ID   Department  Salary   Z-Score\n",
              "0            1           HR   50000 -1.451078\n",
              "1            2  Engineering   80000  1.269693\n",
              "2            3    Marketing   62000 -0.362770\n",
              "3            4        Sales   70000  0.362770\n",
              "4            5           HR   50000 -1.451078"
            ],
            "text/html": [
              "\n",
              "  <div id=\"df-ef904438-c475-4fc4-a1ae-f38375963a3f\" class=\"colab-df-container\">\n",
              "    <div>\n",
              "<style scoped>\n",
              "    .dataframe tbody tr th:only-of-type {\n",
              "        vertical-align: middle;\n",
              "    }\n",
              "\n",
              "    .dataframe tbody tr th {\n",
              "        vertical-align: top;\n",
              "    }\n",
              "\n",
              "    .dataframe thead th {\n",
              "        text-align: right;\n",
              "    }\n",
              "</style>\n",
              "<table border=\"1\" class=\"dataframe\">\n",
              "  <thead>\n",
              "    <tr style=\"text-align: right;\">\n",
              "      <th></th>\n",
              "      <th>Employee_ID</th>\n",
              "      <th>Department</th>\n",
              "      <th>Salary</th>\n",
              "      <th>Z-Score</th>\n",
              "    </tr>\n",
              "  </thead>\n",
              "  <tbody>\n",
              "    <tr>\n",
              "      <th>0</th>\n",
              "      <td>1</td>\n",
              "      <td>HR</td>\n",
              "      <td>50000</td>\n",
              "      <td>-1.451078</td>\n",
              "    </tr>\n",
              "    <tr>\n",
              "      <th>1</th>\n",
              "      <td>2</td>\n",
              "      <td>Engineering</td>\n",
              "      <td>80000</td>\n",
              "      <td>1.269693</td>\n",
              "    </tr>\n",
              "    <tr>\n",
              "      <th>2</th>\n",
              "      <td>3</td>\n",
              "      <td>Marketing</td>\n",
              "      <td>62000</td>\n",
              "      <td>-0.362770</td>\n",
              "    </tr>\n",
              "    <tr>\n",
              "      <th>3</th>\n",
              "      <td>4</td>\n",
              "      <td>Sales</td>\n",
              "      <td>70000</td>\n",
              "      <td>0.362770</td>\n",
              "    </tr>\n",
              "    <tr>\n",
              "      <th>4</th>\n",
              "      <td>5</td>\n",
              "      <td>HR</td>\n",
              "      <td>50000</td>\n",
              "      <td>-1.451078</td>\n",
              "    </tr>\n",
              "  </tbody>\n",
              "</table>\n",
              "</div>\n",
              "    <div class=\"colab-df-buttons\">\n",
              "\n",
              "  <div class=\"colab-df-container\">\n",
              "    <button class=\"colab-df-convert\" onclick=\"convertToInteractive('df-ef904438-c475-4fc4-a1ae-f38375963a3f')\"\n",
              "            title=\"Convert this dataframe to an interactive table.\"\n",
              "            style=\"display:none;\">\n",
              "\n",
              "  <svg xmlns=\"http://www.w3.org/2000/svg\" height=\"24px\" viewBox=\"0 -960 960 960\">\n",
              "    <path d=\"M120-120v-720h720v720H120Zm60-500h600v-160H180v160Zm220 220h160v-160H400v160Zm0 220h160v-160H400v160ZM180-400h160v-160H180v160Zm440 0h160v-160H620v160ZM180-180h160v-160H180v160Zm440 0h160v-160H620v160Z\"/>\n",
              "  </svg>\n",
              "    </button>\n",
              "\n",
              "  <style>\n",
              "    .colab-df-container {\n",
              "      display:flex;\n",
              "      gap: 12px;\n",
              "    }\n",
              "\n",
              "    .colab-df-convert {\n",
              "      background-color: #E8F0FE;\n",
              "      border: none;\n",
              "      border-radius: 50%;\n",
              "      cursor: pointer;\n",
              "      display: none;\n",
              "      fill: #1967D2;\n",
              "      height: 32px;\n",
              "      padding: 0 0 0 0;\n",
              "      width: 32px;\n",
              "    }\n",
              "\n",
              "    .colab-df-convert:hover {\n",
              "      background-color: #E2EBFA;\n",
              "      box-shadow: 0px 1px 2px rgba(60, 64, 67, 0.3), 0px 1px 3px 1px rgba(60, 64, 67, 0.15);\n",
              "      fill: #174EA6;\n",
              "    }\n",
              "\n",
              "    .colab-df-buttons div {\n",
              "      margin-bottom: 4px;\n",
              "    }\n",
              "\n",
              "    [theme=dark] .colab-df-convert {\n",
              "      background-color: #3B4455;\n",
              "      fill: #D2E3FC;\n",
              "    }\n",
              "\n",
              "    [theme=dark] .colab-df-convert:hover {\n",
              "      background-color: #434B5C;\n",
              "      box-shadow: 0px 1px 3px 1px rgba(0, 0, 0, 0.15);\n",
              "      filter: drop-shadow(0px 1px 2px rgba(0, 0, 0, 0.3));\n",
              "      fill: #FFFFFF;\n",
              "    }\n",
              "  </style>\n",
              "\n",
              "    <script>\n",
              "      const buttonEl =\n",
              "        document.querySelector('#df-ef904438-c475-4fc4-a1ae-f38375963a3f button.colab-df-convert');\n",
              "      buttonEl.style.display =\n",
              "        google.colab.kernel.accessAllowed ? 'block' : 'none';\n",
              "\n",
              "      async function convertToInteractive(key) {\n",
              "        const element = document.querySelector('#df-ef904438-c475-4fc4-a1ae-f38375963a3f');\n",
              "        const dataTable =\n",
              "          await google.colab.kernel.invokeFunction('convertToInteractive',\n",
              "                                                    [key], {});\n",
              "        if (!dataTable) return;\n",
              "\n",
              "        const docLinkHtml = 'Like what you see? Visit the ' +\n",
              "          '<a target=\"_blank\" href=https://colab.research.google.com/notebooks/data_table.ipynb>data table notebook</a>'\n",
              "          + ' to learn more about interactive tables.';\n",
              "        element.innerHTML = '';\n",
              "        dataTable['output_type'] = 'display_data';\n",
              "        await google.colab.output.renderOutput(dataTable, element);\n",
              "        const docLink = document.createElement('div');\n",
              "        docLink.innerHTML = docLinkHtml;\n",
              "        element.appendChild(docLink);\n",
              "      }\n",
              "    </script>\n",
              "  </div>\n",
              "\n",
              "\n",
              "<div id=\"df-00baa392-896e-48e5-b176-a1faa244d6fd\">\n",
              "  <button class=\"colab-df-quickchart\" onclick=\"quickchart('df-00baa392-896e-48e5-b176-a1faa244d6fd')\"\n",
              "            title=\"Suggest charts\"\n",
              "            style=\"display:none;\">\n",
              "\n",
              "<svg xmlns=\"http://www.w3.org/2000/svg\" height=\"24px\"viewBox=\"0 0 24 24\"\n",
              "     width=\"24px\">\n",
              "    <g>\n",
              "        <path d=\"M19 3H5c-1.1 0-2 .9-2 2v14c0 1.1.9 2 2 2h14c1.1 0 2-.9 2-2V5c0-1.1-.9-2-2-2zM9 17H7v-7h2v7zm4 0h-2V7h2v10zm4 0h-2v-4h2v4z\"/>\n",
              "    </g>\n",
              "</svg>\n",
              "  </button>\n",
              "\n",
              "<style>\n",
              "  .colab-df-quickchart {\n",
              "      --bg-color: #E8F0FE;\n",
              "      --fill-color: #1967D2;\n",
              "      --hover-bg-color: #E2EBFA;\n",
              "      --hover-fill-color: #174EA6;\n",
              "      --disabled-fill-color: #AAA;\n",
              "      --disabled-bg-color: #DDD;\n",
              "  }\n",
              "\n",
              "  [theme=dark] .colab-df-quickchart {\n",
              "      --bg-color: #3B4455;\n",
              "      --fill-color: #D2E3FC;\n",
              "      --hover-bg-color: #434B5C;\n",
              "      --hover-fill-color: #FFFFFF;\n",
              "      --disabled-bg-color: #3B4455;\n",
              "      --disabled-fill-color: #666;\n",
              "  }\n",
              "\n",
              "  .colab-df-quickchart {\n",
              "    background-color: var(--bg-color);\n",
              "    border: none;\n",
              "    border-radius: 50%;\n",
              "    cursor: pointer;\n",
              "    display: none;\n",
              "    fill: var(--fill-color);\n",
              "    height: 32px;\n",
              "    padding: 0;\n",
              "    width: 32px;\n",
              "  }\n",
              "\n",
              "  .colab-df-quickchart:hover {\n",
              "    background-color: var(--hover-bg-color);\n",
              "    box-shadow: 0 1px 2px rgba(60, 64, 67, 0.3), 0 1px 3px 1px rgba(60, 64, 67, 0.15);\n",
              "    fill: var(--button-hover-fill-color);\n",
              "  }\n",
              "\n",
              "  .colab-df-quickchart-complete:disabled,\n",
              "  .colab-df-quickchart-complete:disabled:hover {\n",
              "    background-color: var(--disabled-bg-color);\n",
              "    fill: var(--disabled-fill-color);\n",
              "    box-shadow: none;\n",
              "  }\n",
              "\n",
              "  .colab-df-spinner {\n",
              "    border: 2px solid var(--fill-color);\n",
              "    border-color: transparent;\n",
              "    border-bottom-color: var(--fill-color);\n",
              "    animation:\n",
              "      spin 1s steps(1) infinite;\n",
              "  }\n",
              "\n",
              "  @keyframes spin {\n",
              "    0% {\n",
              "      border-color: transparent;\n",
              "      border-bottom-color: var(--fill-color);\n",
              "      border-left-color: var(--fill-color);\n",
              "    }\n",
              "    20% {\n",
              "      border-color: transparent;\n",
              "      border-left-color: var(--fill-color);\n",
              "      border-top-color: var(--fill-color);\n",
              "    }\n",
              "    30% {\n",
              "      border-color: transparent;\n",
              "      border-left-color: var(--fill-color);\n",
              "      border-top-color: var(--fill-color);\n",
              "      border-right-color: var(--fill-color);\n",
              "    }\n",
              "    40% {\n",
              "      border-color: transparent;\n",
              "      border-right-color: var(--fill-color);\n",
              "      border-top-color: var(--fill-color);\n",
              "    }\n",
              "    60% {\n",
              "      border-color: transparent;\n",
              "      border-right-color: var(--fill-color);\n",
              "    }\n",
              "    80% {\n",
              "      border-color: transparent;\n",
              "      border-right-color: var(--fill-color);\n",
              "      border-bottom-color: var(--fill-color);\n",
              "    }\n",
              "    90% {\n",
              "      border-color: transparent;\n",
              "      border-bottom-color: var(--fill-color);\n",
              "    }\n",
              "  }\n",
              "</style>\n",
              "\n",
              "  <script>\n",
              "    async function quickchart(key) {\n",
              "      const quickchartButtonEl =\n",
              "        document.querySelector('#' + key + ' button');\n",
              "      quickchartButtonEl.disabled = true;  // To prevent multiple clicks.\n",
              "      quickchartButtonEl.classList.add('colab-df-spinner');\n",
              "      try {\n",
              "        const charts = await google.colab.kernel.invokeFunction(\n",
              "            'suggestCharts', [key], {});\n",
              "      } catch (error) {\n",
              "        console.error('Error during call to suggestCharts:', error);\n",
              "      }\n",
              "      quickchartButtonEl.classList.remove('colab-df-spinner');\n",
              "      quickchartButtonEl.classList.add('colab-df-quickchart-complete');\n",
              "    }\n",
              "    (() => {\n",
              "      let quickchartButtonEl =\n",
              "        document.querySelector('#df-00baa392-896e-48e5-b176-a1faa244d6fd button');\n",
              "      quickchartButtonEl.style.display =\n",
              "        google.colab.kernel.accessAllowed ? 'block' : 'none';\n",
              "    })();\n",
              "  </script>\n",
              "</div>\n",
              "\n",
              "    </div>\n",
              "  </div>\n"
            ],
            "application/vnd.google.colaboratory.intrinsic+json": {
              "type": "dataframe",
              "summary": "{\n  \"name\": \"# helps us use feature with differenet units\",\n  \"rows\": 5,\n  \"fields\": [\n    {\n      \"column\": \"Employee_ID\",\n      \"properties\": {\n        \"dtype\": \"number\",\n        \"std\": 1,\n        \"min\": 1,\n        \"max\": 5,\n        \"num_unique_values\": 5,\n        \"samples\": [\n          2,\n          5,\n          3\n        ],\n        \"semantic_type\": \"\",\n        \"description\": \"\"\n      }\n    },\n    {\n      \"column\": \"Department\",\n      \"properties\": {\n        \"dtype\": \"string\",\n        \"num_unique_values\": 4,\n        \"samples\": [\n          \"Engineering\",\n          \"Sales\",\n          \"HR\"\n        ],\n        \"semantic_type\": \"\",\n        \"description\": \"\"\n      }\n    },\n    {\n      \"column\": \"Salary\",\n      \"properties\": {\n        \"dtype\": \"number\",\n        \"std\": 12992,\n        \"min\": 50000,\n        \"max\": 80000,\n        \"num_unique_values\": 4,\n        \"samples\": [\n          80000,\n          70000,\n          50000\n        ],\n        \"semantic_type\": \"\",\n        \"description\": \"\"\n      }\n    },\n    {\n      \"column\": \"Z-Score\",\n      \"properties\": {\n        \"dtype\": \"number\",\n        \"std\": 1.1783031309464762,\n        \"min\": -1.451078118375336,\n        \"max\": 1.2696933535784192,\n        \"num_unique_values\": 4,\n        \"samples\": [\n          1.2696933535784192,\n          0.362769529593834,\n          -1.451078118375336\n        ],\n        \"semantic_type\": \"\",\n        \"description\": \"\"\n      }\n    }\n  ]\n}"
            }
          },
          "metadata": {},
          "execution_count": 20
        }
      ]
    },
    {
      "cell_type": "markdown",
      "source": [
        "19) Compare two datasets using their standard deviations."
      ],
      "metadata": {
        "id": "m5oxnSBbeLqz"
      }
    },
    {
      "cell_type": "code",
      "source": [
        "st2=df2['Salary'].std()\n",
        "st3=df3['Salary'].std()\n",
        "print(st2)\n",
        "print(st3)"
      ],
      "metadata": {
        "colab": {
          "base_uri": "https://localhost:8080/"
        },
        "id": "51KiLWw0d1pV",
        "outputId": "0cb5c46f-ec9d-47f3-a47d-0f221e43f225"
      },
      "execution_count": null,
      "outputs": [
        {
          "output_type": "stream",
          "name": "stdout",
          "text": [
            "23088.23654302482\n",
            "24454.265703780828\n"
          ]
        }
      ]
    },
    {
      "cell_type": "markdown",
      "source": [
        "20)  Write a Python program to visualize covariance using a heatmap."
      ],
      "metadata": {
        "id": "i4BOjgUwenZO"
      }
    },
    {
      "cell_type": "code",
      "source": [
        "data5 = {\n",
        "    'Salary': np.random.randint(30000, 100000, 100),\n",
        "    'Age': np.random.randint(22, 60, 100),\n",
        "    'Experience': np.random.randint(0, 35, 100),\n",
        "    'Performance_Score': np.random.randint(50, 100, 100)\n",
        "}\n",
        "\n",
        "df5 = pd.DataFrame(data5)\n",
        "\n",
        "cov_matrix = df5.cov()\n",
        "\n",
        "# Plot heatmap\n",
        "plt.figure(figsize=(8, 6))\n",
        "sns.heatmap(cov_matrix, annot=True, fmt=\".2f\", cmap='coolwarm', linewidths=0.5)\n",
        "plt.title(\"Covariance Heatmap\")\n",
        "plt.show()"
      ],
      "metadata": {
        "colab": {
          "base_uri": "https://localhost:8080/",
          "height": 545
        },
        "id": "vNrNzPm5el5o",
        "outputId": "3531f182-d47a-42a8-9a7d-6d2548bcfad2"
      },
      "execution_count": null,
      "outputs": [
        {
          "output_type": "display_data",
          "data": {
            "text/plain": [
              "<Figure size 800x600 with 2 Axes>"
            ],
            "image/png": "[encoded data removed]"
          },
          "metadata": {}
        }
      ]
    },
    {
      "cell_type": "markdown",
      "source": [
        "21) Use seaborn to create a correlation matrix for a dataset."
      ],
      "metadata": {
        "id": "moFBkk8Ofknt"
      }
    },
    {
      "cell_type": "code",
      "source": [
        "corr_matrix = df5.corr()\n",
        "\n",
        "# Plot correlation matrix as a heatmap\n",
        "plt.figure(figsize=(8, 6))\n",
        "sns.heatmap(corr_matrix, annot=True, cmap='coolwarm', linewidths=0.5)\n",
        "plt.title('Correlation Matrix')\n",
        "plt.show()"
      ],
      "metadata": {
        "colab": {
          "base_uri": "https://localhost:8080/",
          "height": 545
        },
        "id": "MpHPnxv0fZf8",
        "outputId": "527d0b6b-1012-41bd-c541-21d45a88dbd4"
      },
      "execution_count": null,
      "outputs": [
        {
          "output_type": "display_data",
          "data": {
            "text/plain": [
              "<Figure size 800x600 with 2 Axes>"
            ],
            "image/png": "[encoded data removed]"
          },
          "metadata": {}
        }
      ]
    },
    {
      "cell_type": "markdown",
      "source": [
        "22) Generate a dataset and implement both variance and standard deviation computations."
      ],
      "metadata": {
        "id": "ypFJZDergLtU"
      }
    },
    {
      "cell_type": "code",
      "source": [
        "mean5=df['Salary'].mean()\n",
        "count5=df['Salary'].count()\n",
        "ts=0\n",
        "for i in df['Salary']:\n",
        "  ts=ts+((i-mean5)**2)\n",
        "\n",
        "var5= ts/count5\n",
        "print(var5)\n",
        "std5=math.sqrt(var5)\n",
        "print(std5)"
      ],
      "metadata": {
        "colab": {
          "base_uri": "https://localhost:8080/"
        },
        "id": "HcBLRq7jgBGE",
        "outputId": "defa8a5f-d497-4c24-9b6c-738e34055289"
      },
      "execution_count": null,
      "outputs": [
        {
          "output_type": "stream",
          "name": "stdout",
          "text": [
            "115500000.0\n",
            "10747.09263010234\n"
          ]
        }
      ]
    },
    {
      "cell_type": "markdown",
      "source": [
        "23) Visualize skewness and kurtosis using Python libraries like matplotlib or seaborn>."
      ],
      "metadata": {
        "id": "QYG8MhO5hddV"
      }
    },
    {
      "cell_type": "code",
      "source": [
        "from scipy.stats import skew,kurtosis\n",
        "np.random.seed(42)\n",
        "data = np.random.normal(loc=50, scale=15, size=1000)\n",
        "\n",
        "df = pd.DataFrame({'Values': data})\n",
        "\n",
        "skewness = skew(df['Values'])\n",
        "kurt = kurtosis(df['Values'], fisher=True)\n",
        "\n",
        "plt.figure(figsize=(10, 6))\n",
        "sns.histplot(df['Values'], kde=True, bins=30, color='skyblue')\n",
        "plt.title(\"Distribution with Skewness and Kurtosis\", fontsize=14)\n",
        "\n",
        "plt.axvline(df['Values'].mean(), color='red', linestyle='--', label='Mean')\n",
        "plt.text(df['Values'].mean()+2, 30, f\"Skewness: {skewness:.2f}\\nKurtosis: {kurt:.2f}\", fontsize=12, color='black')\n",
        "plt.legend()\n",
        "plt.xlabel(\"Values\")\n",
        "plt.ylabel(\"Frequency\")\n",
        "plt.grid(True)\n",
        "plt.show()"
      ],
      "metadata": {
        "colab": {
          "base_uri": "https://localhost:8080/",
          "height": 565
        },
        "id": "0lRDHyTqhOyn",
        "outputId": "7fca1dc8-b5c6-4f93-fd23-2e361fb537a9"
      },
      "execution_count": null,
      "outputs": [
        {
          "output_type": "display_data",
          "data": {
            "text/plain": [
              "<Figure size 1000x600 with 1 Axes>"
            ],
            "image/png": "[encoded data removed]"
          },
          "metadata": {}
        }
      ]
    },
    {
      "cell_type": "markdown",
      "source": [
        "24) Implement the Pearson and Spearman correlation coefficients for a dataset."
      ],
      "metadata": {
        "id": "WY8grXr9iNYh"
      }
    },
    {
      "cell_type": "code",
      "source": [
        "np.random.seed(42)\n",
        "data = {\n",
        "    'Study_Hours': np.random.randint(1, 10, 100),\n",
        "    'Test_Score': np.random.randint(40, 100, 100)\n",
        "}\n",
        "\n",
        "df = pd.DataFrame(data)\n",
        "std_sh=df['Study_Hours'].std()\n",
        "std_ts=df['Test_Score'].std()\n",
        "pear_cor_cof=df.cov()/(std_sh*std_ts)\n",
        "\n",
        "sh_rank = pd.Series(df['Study_Hours']).rank().values\n",
        "ts_rank = pd.Series(df['Test_Score']).rank().values\n",
        "\n",
        "d = sh_rank - ts_rank\n",
        "n = len(df['Test_Score'])\n",
        "spearman_rho = 1 - (6 * sum(d ** 2)) / (n * (n**2 - 1))\n",
        "\n",
        "print(pear_cor_cof)\n",
        "print(spearman_rho)"
      ],
      "metadata": {
        "colab": {
          "base_uri": "https://localhost:8080/"
        },
        "id": "LaziTO00iBwD",
        "outputId": "dcbf8d7f-2a1c-4c76-b05e-0ae50c539bfa"
      },
      "execution_count": null,
      "outputs": [
        {
          "output_type": "stream",
          "name": "stdout",
          "text": [
            "             Study_Hours  Test_Score\n",
            "Study_Hours     0.151706   -0.165369\n",
            "Test_Score     -0.165369    6.591702\n",
            "-0.1582088208820882\n"
          ]
        }
      ]
    },
    {
      "cell_type": "code",
      "source": [],
      "metadata": {
        "id": "OVvqJSdtksYe"
      },
      "execution_count": null,
      "outputs": []
    }
  ]
}