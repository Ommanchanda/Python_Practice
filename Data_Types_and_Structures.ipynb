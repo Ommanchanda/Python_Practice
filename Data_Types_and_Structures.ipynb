{
  "nbformat": 4,
  "nbformat_minor": 0,
  "metadata": {
    "colab": {
      "provenance": [],
      "authorship_tag": "ABX9TyMxmwc8zFZU9Ar39yDmIEXg",
      "include_colab_link": true
    },
    "kernelspec": {
      "name": "python3",
      "display_name": "Python 3"
    },
    "language_info": {
      "name": "python"
    }
  },
  "cells": [
    {
      "cell_type": "markdown",
      "metadata": {
        "id": "view-in-github",
        "colab_type": "text"
      },
      "source": [
        "<a href=\"https://colab.research.google.com/github/Ommanchanda/Python_Practice/blob/main/Data_Types_and_Structures.ipynb\" target=\"_parent\"><img src=\"https://colab.research.google.com/assets/colab-badge.svg\" alt=\"Open In Colab\"/></a>"
      ]
    },
    {
      "cell_type": "markdown",
      "source": [
        "**Data Types and Structures**"
      ],
      "metadata": {
        "id": "qHyemck30oAl"
      }
    },
    {
      "cell_type": "markdown",
      "source": [
        "Questions"
      ],
      "metadata": {
        "id": "Zp0aZiNB04s4"
      }
    },
    {
      "cell_type": "markdown",
      "source": [
        "Q1)What are data structures, and why are they important?"
      ],
      "metadata": {
        "id": "CAdHJvOB09zh"
      }
    },
    {
      "cell_type": "markdown",
      "source": [
        "Data structures are formats in which we can store and manage data in an efficient way.\n",
        "They are important because they help us orgnize data in a way that performing operations on them or deriving conclusions from them becomes easy."
      ],
      "metadata": {
        "id": "RTb8Wonq09wH"
      }
    },
    {
      "cell_type": "markdown",
      "source": [
        "Q2) Explain the difference between mutable and immutable data types with examples?"
      ],
      "metadata": {
        "id": "HUs8uCwn09tT"
      }
    },
    {
      "cell_type": "markdown",
      "source": [
        "Mutable data types are the ones in which changes can be made after its creation. Example: Lists,sets\n",
        "Immutable data types are the ones in which changes cannot be made to the object once object is created. Example:Tuple"
      ],
      "metadata": {
        "id": "q3jFU0Z709qn"
      }
    },
    {
      "cell_type": "markdown",
      "source": [
        "Q3)What are the main differences between lists and tuples in Python?"
      ],
      "metadata": {
        "id": "uYkiyi__09n3"
      }
    },
    {
      "cell_type": "markdown",
      "source": [
        "The only difference between lists and tuples in python is that lists are mutable and changes can be ade in them after creation while tuples are immutable."
      ],
      "metadata": {
        "id": "LgG0luPv09lP"
      }
    },
    {
      "cell_type": "markdown",
      "source": [
        "Q4)Describe how dictionaries store data?"
      ],
      "metadata": {
        "id": "7Nhi9BkM09io"
      }
    },
    {
      "cell_type": "markdown",
      "source": [
        "Dictionaries store data in the form of keys and values. Every entry has a key and an assosiated value."
      ],
      "metadata": {
        "id": "p_QfpGqd09fw"
      }
    },
    {
      "cell_type": "markdown",
      "source": [
        "Q5)Why might you use a set instead of a list in Python?"
      ],
      "metadata": {
        "id": "evX3Omo-09cq"
      }
    },
    {
      "cell_type": "markdown",
      "source": [
        "Sets can be used when only unique objects are needed. If there is a need to perform operations like OR or AND among data structures we might prefer usings sets instead of lists."
      ],
      "metadata": {
        "id": "xlO0LKKt09Zh"
      }
    },
    {
      "cell_type": "markdown",
      "source": [
        "Q6)What is a string in Python, and how is it different from a list?"
      ],
      "metadata": {
        "id": "QCqJCgmN088Y"
      }
    },
    {
      "cell_type": "markdown",
      "source": [
        "A string is a sequence of characters whlie lists are collection of objects that might be string,number,float or any data type.\n",
        "\n",
        "String is a data type.\n",
        "\n",
        "List is a data structure."
      ],
      "metadata": {
        "id": "se4_7po67BZL"
      }
    },
    {
      "cell_type": "markdown",
      "source": [
        "Q7)How do tuples ensure data integrity in Python?"
      ],
      "metadata": {
        "id": "EZNoVlQT7Dc5"
      }
    },
    {
      "cell_type": "markdown",
      "source": [
        "Modifications cannot be made to objects of tuples once they are created. Hence they are used when data integrity is needed."
      ],
      "metadata": {
        "id": "ZrOOkpe07DY-"
      }
    },
    {
      "cell_type": "markdown",
      "source": [
        "Q8)What is a hash table, and how does it relate to dictionaries in Python?"
      ],
      "metadata": {
        "id": "YXs6UH-77DW6"
      }
    },
    {
      "cell_type": "markdown",
      "source": [
        "Hash table is data structure that uses hash function to efficiently map key-value pairs. Each key is given an integer which defines the index(bucket) in which key-value pair will be stored.\n",
        "\n",
        "Hash table and dictionaries are related because python dictionaries are implemented using hash tables."
      ],
      "metadata": {
        "id": "PaQE07857DUK"
      }
    },
    {
      "cell_type": "markdown",
      "source": [
        "Q9)Can lists contain different data types in Python?"
      ],
      "metadata": {
        "id": "I5O_sCrQ7DRi"
      }
    },
    {
      "cell_type": "markdown",
      "source": [
        "Yes, a list can contain objects of different data types."
      ],
      "metadata": {
        "id": "7BJIQOy_7DPH"
      }
    },
    {
      "cell_type": "markdown",
      "source": [
        "Q10)Explain why strings are immutable in Python?"
      ],
      "metadata": {
        "id": "-1eCh_OG7DMo"
      }
    },
    {
      "cell_type": "markdown",
      "source": [
        "Strings being immutable ensures that they can be safely used as keys in dictionaries and elements in a set."
      ],
      "metadata": {
        "id": "J4S1M_S17DKA"
      }
    },
    {
      "cell_type": "markdown",
      "source": [
        "Q11)What advantages do dictionaries offer over lists for certain tasks?"
      ],
      "metadata": {
        "id": "m1E_Km8v7DHa"
      }
    },
    {
      "cell_type": "markdown",
      "source": [
        "Dictionaries help in storing data as key-value pairs and they can be preffered when duplicate data is to be prevented as dictonaries only have unique keys."
      ],
      "metadata": {
        "id": "CMyMeLnE7DEm"
      }
    },
    {
      "cell_type": "markdown",
      "source": [
        "Q12)Describe a scenario where using a tuple would be preferable over a list?"
      ],
      "metadata": {
        "id": "HRPKzlyN7DCJ"
      }
    },
    {
      "cell_type": "markdown",
      "source": [
        "A tuple can be used over lists when we need to maintain integrity of data as tuples dont allow changes once objects are created."
      ],
      "metadata": {
        "id": "FY_KFk5a7C_p"
      }
    },
    {
      "cell_type": "markdown",
      "source": [
        "Q13) How do sets handle duplicate values in Python?"
      ],
      "metadata": {
        "id": "E8A8_qsP7C9I"
      }
    },
    {
      "cell_type": "markdown",
      "source": [
        "Duplicate values are dropped from the sets."
      ],
      "metadata": {
        "id": "hPHMUUqVDAVj"
      }
    },
    {
      "cell_type": "markdown",
      "source": [
        "Q14)How does the “in” keyword work differently for lists and dictionaries?"
      ],
      "metadata": {
        "id": "V8CbaxI9DASP"
      }
    },
    {
      "cell_type": "markdown",
      "source": [
        "In lists \"in\" keyword is used to check the presence of a value in the list.\n",
        "\n",
        "In Dictionaries \"in\" keyword is used to check if a key of the same name is present; not the value."
      ],
      "metadata": {
        "id": "bNw0IywIDAPx"
      }
    },
    {
      "cell_type": "markdown",
      "source": [
        "Q15)Can you modify the elements of a tuple? Explain why or why not?"
      ],
      "metadata": {
        "id": "PERiI8fPDANk"
      }
    },
    {
      "cell_type": "markdown",
      "source": [
        "No, elements of a tuple cannot be modified .\n",
        "\n",
        "They are designed to be consistent, reliable and can be used as dictionary key and set elements."
      ],
      "metadata": {
        "id": "4DC921l-DALF"
      }
    },
    {
      "cell_type": "markdown",
      "source": [
        "Q16)What is a nested dictionary, and give an example of its use case?"
      ],
      "metadata": {
        "id": "f2FyEVJSDAIh"
      }
    },
    {
      "cell_type": "markdown",
      "source": [
        "If value of a key is another dictionary, its called a nested dictionary.\n",
        "\n",
        "It can be used when we need hierarchy in data."
      ],
      "metadata": {
        "id": "JGT6jpWUDAF3"
      }
    },
    {
      "cell_type": "markdown",
      "source": [
        "Q17)Describe the time complexity of accessing elements in a dictionary?"
      ],
      "metadata": {
        "id": "Jo52u842DADM"
      }
    },
    {
      "cell_type": "markdown",
      "source": [
        "Dictionaries are implemented using hash tables in python hence they are time efficient."
      ],
      "metadata": {
        "id": "_Kh3m8jmC_-p"
      }
    },
    {
      "cell_type": "markdown",
      "source": [
        "Q18)In what situations are lists preferred over dictionaries?"
      ],
      "metadata": {
        "id": "fwmfsW107C6Y"
      }
    },
    {
      "cell_type": "markdown",
      "source": [
        "Lists are prefered over dictionaries when linear structure of the data is required."
      ],
      "metadata": {
        "id": "hLKwUHwf7C3d"
      }
    },
    {
      "cell_type": "markdown",
      "source": [
        "Q19)Why are dictionaries considered unordered, and how does that affect data retrieval?"
      ],
      "metadata": {
        "id": "gmDr4oec7C0x"
      }
    },
    {
      "cell_type": "markdown",
      "source": [
        "In dictionaries the order of data entry is not important because data is stored using hash table and data retrival is done using keys."
      ],
      "metadata": {
        "id": "xtevyxX87CyB"
      }
    },
    {
      "cell_type": "markdown",
      "source": [
        "Q20)Explain the difference between a list and a dictionary in terms of data retrieval?"
      ],
      "metadata": {
        "id": "-uHR61Jw7CvR"
      }
    },
    {
      "cell_type": "markdown",
      "source": [
        "In lists data retrieval can be done using index and also by iterating through the list.\n",
        "\n",
        "In dictionaries data retrieval is done using the name of the keys."
      ],
      "metadata": {
        "id": "WrcUIU7A7CG9"
      }
    },
    {
      "cell_type": "markdown",
      "source": [
        "**Practical Questions**"
      ],
      "metadata": {
        "id": "Qvl27BdmYSPY"
      }
    },
    {
      "cell_type": "markdown",
      "source": [
        "Q1)Write a code to create a string with your name and print it."
      ],
      "metadata": {
        "id": "BXUX6XuJYSMA"
      }
    },
    {
      "cell_type": "code",
      "source": [
        "name=\"Om Manchanda\"\n",
        "print(name)"
      ],
      "metadata": {
        "colab": {
          "base_uri": "https://localhost:8080/"
        },
        "id": "NQ88a1kZ5PlR",
        "outputId": "c72b0e03-a130-4748-a93d-261e776e9361"
      },
      "execution_count": 2,
      "outputs": [
        {
          "output_type": "stream",
          "name": "stdout",
          "text": [
            "Om Manchanda\n"
          ]
        }
      ]
    },
    {
      "cell_type": "markdown",
      "source": [
        "Q2)Write a code to find the length of the string \"Hello World\"."
      ],
      "metadata": {
        "id": "ILRZdzTwYSIZ"
      }
    },
    {
      "cell_type": "code",
      "source": [
        "s1=\"Hello World\"\n",
        "n=len(s1)\n",
        "print(n)"
      ],
      "metadata": {
        "colab": {
          "base_uri": "https://localhost:8080/"
        },
        "id": "dGsW-jGm5rNe",
        "outputId": "fcde1bb3-6b85-4b68-e903-087fc664d98d"
      },
      "execution_count": 3,
      "outputs": [
        {
          "output_type": "stream",
          "name": "stdout",
          "text": [
            "11\n"
          ]
        }
      ]
    },
    {
      "cell_type": "markdown",
      "source": [
        "Q3)Write a code to slice the first 3 characters from the string \"Python Programming."
      ],
      "metadata": {
        "id": "gwzLF0dGYSFL"
      }
    },
    {
      "cell_type": "code",
      "source": [
        "s2=\"Python Programming\"\n",
        "print(s2[0:3])"
      ],
      "metadata": {
        "colab": {
          "base_uri": "https://localhost:8080/"
        },
        "id": "JOBF7SHF6Hiu",
        "outputId": "3340f77f-7582-47f9-bb39-98508a04dc86"
      },
      "execution_count": 4,
      "outputs": [
        {
          "output_type": "stream",
          "name": "stdout",
          "text": [
            "Pyt\n"
          ]
        }
      ]
    },
    {
      "cell_type": "markdown",
      "source": [
        "Q4)Write a code to convert the string \"hello\" to uppercase."
      ],
      "metadata": {
        "id": "JAh-du_8YR3s"
      }
    },
    {
      "cell_type": "code",
      "execution_count": 5,
      "metadata": {
        "colab": {
          "base_uri": "https://localhost:8080/"
        },
        "id": "Pf51fc9X0fq0",
        "outputId": "c6253aef-b438-458e-f181-2d9ba727c125"
      },
      "outputs": [
        {
          "output_type": "stream",
          "name": "stdout",
          "text": [
            "HELLO\n"
          ]
        }
      ],
      "source": [
        "s3=\"Hello\"\n",
        "print(s3.upper())"
      ]
    },
    {
      "cell_type": "markdown",
      "source": [
        "Q5)Write a code to replace the word \"apple\" with \"orange\" in the string \"I like apple\"."
      ],
      "metadata": {
        "id": "wPmj_ipG6kOM"
      }
    },
    {
      "cell_type": "code",
      "source": [
        "s4=\"I like apple\"\n",
        "print(s4.replace(\"apple\",\"orange\"))"
      ],
      "metadata": {
        "colab": {
          "base_uri": "https://localhost:8080/"
        },
        "id": "SLBFHWy46zQ-",
        "outputId": "6bc54473-d549-42eb-e8f6-d95360deed0a"
      },
      "execution_count": 7,
      "outputs": [
        {
          "output_type": "stream",
          "name": "stdout",
          "text": [
            "I like orange\n"
          ]
        }
      ]
    },
    {
      "cell_type": "markdown",
      "source": [
        "Q6)Write a code to create a list with numbers 1 to 5 and print it."
      ],
      "metadata": {
        "id": "zLFIXrG66kKs"
      }
    },
    {
      "cell_type": "code",
      "source": [
        "l1=[]\n",
        "for i in range(1,6):\n",
        "  l1.append(i)\n",
        "print(l1)\n"
      ],
      "metadata": {
        "colab": {
          "base_uri": "https://localhost:8080/"
        },
        "id": "EUkV8FRq7LZa",
        "outputId": "cd38f702-6a6d-42a1-bb45-ca0d6b476900"
      },
      "execution_count": 9,
      "outputs": [
        {
          "output_type": "stream",
          "name": "stdout",
          "text": [
            "[1, 2, 3, 4, 5]\n"
          ]
        }
      ]
    },
    {
      "cell_type": "markdown",
      "source": [
        "Q7)Write a code to append the number 10 to the list [1, 2, 3, 4]."
      ],
      "metadata": {
        "id": "5DfvI7IT6kIG"
      }
    },
    {
      "cell_type": "code",
      "source": [
        "l2=[1,2,3,4]\n",
        "l2.append(10)\n",
        "l2"
      ],
      "metadata": {
        "colab": {
          "base_uri": "https://localhost:8080/"
        },
        "id": "jGAzphJH7tIF",
        "outputId": "acf2794e-4f4a-46df-8816-b55d09a92677"
      },
      "execution_count": 10,
      "outputs": [
        {
          "output_type": "execute_result",
          "data": {
            "text/plain": [
              "[1, 2, 3, 4, 10]"
            ]
          },
          "metadata": {},
          "execution_count": 10
        }
      ]
    },
    {
      "cell_type": "markdown",
      "source": [
        "Q8)Write a code to remove the number 3 from the list [1, 2, 3, 4, 5]."
      ],
      "metadata": {
        "id": "2yN27YLV6kFy"
      }
    },
    {
      "cell_type": "code",
      "source": [
        "l3=[1,2,3,4,5]\n",
        "l3.remove(3)\n",
        "l3"
      ],
      "metadata": {
        "colab": {
          "base_uri": "https://localhost:8080/"
        },
        "id": "upajCcQM7-q1",
        "outputId": "75d54ee8-30b6-4616-a39d-2402d724b155"
      },
      "execution_count": 11,
      "outputs": [
        {
          "output_type": "execute_result",
          "data": {
            "text/plain": [
              "[1, 2, 4, 5]"
            ]
          },
          "metadata": {},
          "execution_count": 11
        }
      ]
    },
    {
      "cell_type": "markdown",
      "source": [
        "Q9) Write a code to access the second element in the list ['a', 'b', 'c', 'd']."
      ],
      "metadata": {
        "id": "9RS8rJtx6kC_"
      }
    },
    {
      "cell_type": "code",
      "source": [
        "l4=['a','b','c','d']\n",
        "l4[1]"
      ],
      "metadata": {
        "colab": {
          "base_uri": "https://localhost:8080/",
          "height": 36
        },
        "id": "dQvpaYU08gds",
        "outputId": "b5189beb-27bc-4912-f4af-37faa87dbb97"
      },
      "execution_count": 13,
      "outputs": [
        {
          "output_type": "execute_result",
          "data": {
            "text/plain": [
              "'b'"
            ],
            "application/vnd.google.colaboratory.intrinsic+json": {
              "type": "string"
            }
          },
          "metadata": {},
          "execution_count": 13
        }
      ]
    },
    {
      "cell_type": "markdown",
      "source": [
        "Q10) Write a code to reverse the list [10, 20, 30, 40, 50]."
      ],
      "metadata": {
        "id": "9hgykwVH6kAZ"
      }
    },
    {
      "cell_type": "code",
      "source": [
        "l5=[10,20,30,40,50]\n",
        "l6=[]\n",
        "for i in range(len(l5)):\n",
        "  l6.append(l5.pop())\n",
        "l6"
      ],
      "metadata": {
        "colab": {
          "base_uri": "https://localhost:8080/"
        },
        "id": "b1Q_8LDm8xrT",
        "outputId": "136ea76c-1ca6-4315-c0e3-d5653471b513"
      },
      "execution_count": 16,
      "outputs": [
        {
          "output_type": "execute_result",
          "data": {
            "text/plain": [
              "[50, 40, 30, 20, 10]"
            ]
          },
          "metadata": {},
          "execution_count": 16
        }
      ]
    },
    {
      "cell_type": "markdown",
      "source": [
        "Q11)Write a code to create a tuple with the elements 10, 20, 30 and print it."
      ],
      "metadata": {
        "id": "KtIWx4fh6j9y"
      }
    },
    {
      "cell_type": "code",
      "source": [
        "t1=(10,20,30)\n",
        "t1"
      ],
      "metadata": {
        "colab": {
          "base_uri": "https://localhost:8080/"
        },
        "id": "Uye2giZi9dQN",
        "outputId": "5ef47f74-e16c-441b-a8ea-919642a34576"
      },
      "execution_count": 17,
      "outputs": [
        {
          "output_type": "execute_result",
          "data": {
            "text/plain": [
              "(10, 20, 30)"
            ]
          },
          "metadata": {},
          "execution_count": 17
        }
      ]
    },
    {
      "cell_type": "markdown",
      "source": [
        "Q12)Write a code to access the first element of the tuple ('apple', 'banana', 'cherry')."
      ],
      "metadata": {
        "id": "Sq8L_uxg6j7F"
      }
    },
    {
      "cell_type": "code",
      "source": [
        "t2=(\"apple\",\"banana\",\"cherry\")\n",
        "t2[0]"
      ],
      "metadata": {
        "colab": {
          "base_uri": "https://localhost:8080/",
          "height": 36
        },
        "id": "2BW_fg2W9pZE",
        "outputId": "ef463adc-7c52-4249-a66e-b08713b6dac4"
      },
      "execution_count": 18,
      "outputs": [
        {
          "output_type": "execute_result",
          "data": {
            "text/plain": [
              "'apple'"
            ],
            "application/vnd.google.colaboratory.intrinsic+json": {
              "type": "string"
            }
          },
          "metadata": {},
          "execution_count": 18
        }
      ]
    },
    {
      "cell_type": "markdown",
      "source": [
        "Q13)Write a code to count how many times the number 2 appears in the tuple (1, 2, 3, 2, 4, 2).\n"
      ],
      "metadata": {
        "id": "mQSUqMj26i9d"
      }
    },
    {
      "cell_type": "code",
      "source": [
        "t3=(1,2,3,2,4,2)\n",
        "count=0\n",
        "for i in range(len(t3)):\n",
        "  if t3[i]==2:\n",
        "    count=count+1\n",
        "print(count)\n"
      ],
      "metadata": {
        "colab": {
          "base_uri": "https://localhost:8080/"
        },
        "id": "M4nsk4bQ6hFs",
        "outputId": "1f46864c-7c1c-4cae-ba38-65d239dc0932"
      },
      "execution_count": 21,
      "outputs": [
        {
          "output_type": "stream",
          "name": "stdout",
          "text": [
            "3\n"
          ]
        }
      ]
    },
    {
      "cell_type": "markdown",
      "source": [
        "Q14) Write a code to find the index of the element \"cat\" in the tuple ('dog', 'cat', 'rabbit')."
      ],
      "metadata": {
        "id": "aP3RA-v1-9SE"
      }
    },
    {
      "cell_type": "code",
      "source": [
        "t4=(\"dog\",\"cat\",\"rabbit\")\n",
        "t4.index('cat')"
      ],
      "metadata": {
        "colab": {
          "base_uri": "https://localhost:8080/"
        },
        "id": "QK8NN3O8_BOI",
        "outputId": "356ee379-f2c0-481d-91a6-e00adec6f261"
      },
      "execution_count": 23,
      "outputs": [
        {
          "output_type": "execute_result",
          "data": {
            "text/plain": [
              "1"
            ]
          },
          "metadata": {},
          "execution_count": 23
        }
      ]
    },
    {
      "cell_type": "markdown",
      "source": [
        "Q15) Write a code to check if the element \"banana\" is in the tuple ('apple', 'orange', 'banana')."
      ],
      "metadata": {
        "id": "JH3NhJuZ-_5-"
      }
    },
    {
      "cell_type": "code",
      "source": [
        "t5=(\"apple\",\"orange\",\"banana\")\n",
        "\"banana\" in t5"
      ],
      "metadata": {
        "colab": {
          "base_uri": "https://localhost:8080/"
        },
        "id": "GIHXf-Nv-NhV",
        "outputId": "38ff3263-d929-4e30-9303-674fbb69abed"
      },
      "execution_count": 24,
      "outputs": [
        {
          "output_type": "execute_result",
          "data": {
            "text/plain": [
              "True"
            ]
          },
          "metadata": {},
          "execution_count": 24
        }
      ]
    },
    {
      "cell_type": "markdown",
      "source": [
        "Q16) Write a code to create a set with the elements 1, 2, 3, 4, 5 and print it."
      ],
      "metadata": {
        "id": "oRBvqjj2_fCj"
      }
    },
    {
      "cell_type": "code",
      "source": [
        "s1={1,2,3,4,5}\n",
        "print(s1)"
      ],
      "metadata": {
        "colab": {
          "base_uri": "https://localhost:8080/"
        },
        "id": "qCUPei5z_iEA",
        "outputId": "9ac78357-41ab-4270-ad55-0cd76e57cfee"
      },
      "execution_count": 26,
      "outputs": [
        {
          "output_type": "stream",
          "name": "stdout",
          "text": [
            "{1, 2, 3, 4, 5}\n"
          ]
        }
      ]
    },
    {
      "cell_type": "markdown",
      "source": [
        "Q17)Write a code to add the element 6 to the set {1, 2, 3, 4}."
      ],
      "metadata": {
        "id": "ipUGdsCP_e-3"
      }
    },
    {
      "cell_type": "code",
      "source": [
        "s2={1,2,3,4}\n",
        "s2.add(6)\n",
        "s2"
      ],
      "metadata": {
        "colab": {
          "base_uri": "https://localhost:8080/"
        },
        "id": "_rm_vnJj_xmw",
        "outputId": "b71ed47e-4cb3-4d7b-a2d9-3a943659fc2e"
      },
      "execution_count": 29,
      "outputs": [
        {
          "output_type": "execute_result",
          "data": {
            "text/plain": [
              "{1, 2, 3, 4, 6}"
            ]
          },
          "metadata": {},
          "execution_count": 29
        }
      ]
    },
    {
      "cell_type": "markdown",
      "source": [
        "Q18) Write a code to create a tuple with the elements 10, 20, 30 and print it."
      ],
      "metadata": {
        "id": "uQbVLuO3_e7z"
      }
    },
    {
      "cell_type": "code",
      "source": [
        "t6=(10,20,30)\n",
        "t6"
      ],
      "metadata": {
        "colab": {
          "base_uri": "https://localhost:8080/"
        },
        "id": "EMHFA8rNAT5f",
        "outputId": "f298eb66-0829-462b-9a03-03c262104643"
      },
      "execution_count": 30,
      "outputs": [
        {
          "output_type": "execute_result",
          "data": {
            "text/plain": [
              "(10, 20, 30)"
            ]
          },
          "metadata": {},
          "execution_count": 30
        }
      ]
    },
    {
      "cell_type": "markdown",
      "source": [
        "Q19)Write a code to access the first element of the tuple ('apple', 'banana', 'cherry')."
      ],
      "metadata": {
        "id": "PAJAu8eb_e5K"
      }
    },
    {
      "cell_type": "code",
      "source": [
        "t7=(\"apple\",\"banana\",\"cherry\")\n",
        "t7[0]"
      ],
      "metadata": {
        "colab": {
          "base_uri": "https://localhost:8080/",
          "height": 36
        },
        "id": "iUWM53ooAf87",
        "outputId": "4163ea66-8ece-4343-8081-a613e107723b"
      },
      "execution_count": 31,
      "outputs": [
        {
          "output_type": "execute_result",
          "data": {
            "text/plain": [
              "'apple'"
            ],
            "application/vnd.google.colaboratory.intrinsic+json": {
              "type": "string"
            }
          },
          "metadata": {},
          "execution_count": 31
        }
      ]
    },
    {
      "cell_type": "markdown",
      "source": [
        "Q20) Write a code to count how many times the number 2 appears in the tuple (1, 2, 3, 2, 4, 2)."
      ],
      "metadata": {
        "id": "DJUvpMAT_e2V"
      }
    },
    {
      "cell_type": "code",
      "source": [
        "t8=(1,2,3,2,4,2)\n",
        "t8.count(2)"
      ],
      "metadata": {
        "colab": {
          "base_uri": "https://localhost:8080/"
        },
        "id": "c9HtNRPzAxQh",
        "outputId": "518334c0-cdc2-43df-c27d-4c7d2e949700"
      },
      "execution_count": 32,
      "outputs": [
        {
          "output_type": "execute_result",
          "data": {
            "text/plain": [
              "3"
            ]
          },
          "metadata": {},
          "execution_count": 32
        }
      ]
    },
    {
      "cell_type": "markdown",
      "source": [
        "Q21) Write a code to find the index of the element \"cat\" in the tuple ('dog', 'cat', 'rabbit')."
      ],
      "metadata": {
        "id": "oqcxmDHe_ejz"
      }
    },
    {
      "cell_type": "code",
      "source": [
        "t9=('dog',\"cat\",\"rabbit\")\n",
        "t9.index(\"cat\")"
      ],
      "metadata": {
        "colab": {
          "base_uri": "https://localhost:8080/"
        },
        "id": "wkVqfeaZ-7LZ",
        "outputId": "2470af4d-f493-4d76-9005-6168aea5f594"
      },
      "execution_count": 33,
      "outputs": [
        {
          "output_type": "execute_result",
          "data": {
            "text/plain": [
              "1"
            ]
          },
          "metadata": {},
          "execution_count": 33
        }
      ]
    },
    {
      "cell_type": "markdown",
      "source": [
        "Q22) Write a code to check if the element \"banana\" is in the tuple ('apple', 'orange', 'banana')"
      ],
      "metadata": {
        "id": "OklHxFyJBc9F"
      }
    },
    {
      "cell_type": "code",
      "source": [
        "t10=('apple','orange','banana')\n",
        "\"banana\" in t10"
      ],
      "metadata": {
        "colab": {
          "base_uri": "https://localhost:8080/"
        },
        "id": "nmENdPK0BVPg",
        "outputId": "f7ed6d03-95ee-41ba-c115-a92e351b09b4"
      },
      "execution_count": 35,
      "outputs": [
        {
          "output_type": "execute_result",
          "data": {
            "text/plain": [
              "True"
            ]
          },
          "metadata": {},
          "execution_count": 35
        }
      ]
    },
    {
      "cell_type": "markdown",
      "source": [
        "Q23)Write a code to create a set with the elements 1, 2, 3, 4, 5 and print it."
      ],
      "metadata": {
        "id": "mpbcCAy4BpDB"
      }
    },
    {
      "cell_type": "code",
      "source": [
        "s3={1,2,3,4,5}\n",
        "s3"
      ],
      "metadata": {
        "colab": {
          "base_uri": "https://localhost:8080/"
        },
        "id": "G_QdU23GBwXI",
        "outputId": "80b51064-4d9d-49c7-816c-2988a43939bb"
      },
      "execution_count": 36,
      "outputs": [
        {
          "output_type": "execute_result",
          "data": {
            "text/plain": [
              "{1, 2, 3, 4, 5}"
            ]
          },
          "metadata": {},
          "execution_count": 36
        }
      ]
    },
    {
      "cell_type": "markdown",
      "source": [
        "Q24) Write a code to add the element 6 to the set {1, 2, 3, 4}."
      ],
      "metadata": {
        "id": "CFx_pLPtBo_s"
      }
    },
    {
      "cell_type": "code",
      "source": [
        "s4={1,2,3,4}\n",
        "s4.add(6)\n",
        "s4"
      ],
      "metadata": {
        "colab": {
          "base_uri": "https://localhost:8080/"
        },
        "id": "Fe8k2YMSBbIf",
        "outputId": "eff8f8ec-0c79-48a7-eb6b-d822304a31ec"
      },
      "execution_count": 37,
      "outputs": [
        {
          "output_type": "execute_result",
          "data": {
            "text/plain": [
              "{1, 2, 3, 4, 6}"
            ]
          },
          "metadata": {},
          "execution_count": 37
        }
      ]
    },
    {
      "cell_type": "code",
      "source": [],
      "metadata": {
        "id": "hhlqxNv4CAx5"
      },
      "execution_count": null,
      "outputs": []
    }
  ]
}