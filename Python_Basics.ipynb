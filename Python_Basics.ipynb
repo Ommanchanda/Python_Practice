{
  "nbformat": 4,
  "nbformat_minor": 0,
  "metadata": {
    "colab": {
      "provenance": []
    },
    "kernelspec": {
      "name": "python3",
      "display_name": "Python 3"
    },
    "language_info": {
      "name": "python"
    }
  },
  "cells": [
    {
      "cell_type": "markdown",
      "source": [
        "ASSINGMENT"
      ],
      "metadata": {
        "id": "qI4H1LmdN54K"
      }
    },
    {
      "cell_type": "markdown",
      "source": [
        "PYTHON BASICS QUESTIONS"
      ],
      "metadata": {
        "id": "eZ9NIfwSN86h"
      }
    },
    {
      "cell_type": "markdown",
      "source": [
        "Q1)What is Python, and why is it popular?"
      ],
      "metadata": {
        "id": "_zIf8Mo1OBFH"
      }
    },
    {
      "cell_type": "markdown",
      "source": [
        "Python is an interpreted programming language known for its simplicity and readability. Python codes can be written in fewer lines as compared to other programming languages. Python is popular because: 1.Easy to learn 2. Many libraries that make coding easy and efficient. 3. Ideal for AI, Ml, and data analytics."
      ],
      "metadata": {
        "id": "ZAxM79CMOKuY"
      }
    },
    {
      "cell_type": "markdown",
      "source": [
        "Q2) What is an interpreter in Python?"
      ],
      "metadata": {
        "id": "4iwaIgPYOKq0"
      }
    },
    {
      "cell_type": "markdown",
      "source": [
        "Interpreter is the program that runs python codes line by line and helps the developers correct their mistakes easily."
      ],
      "metadata": {
        "id": "VXNw8kbKOKn5"
      }
    },
    {
      "cell_type": "markdown",
      "source": [
        "Q3) What are pre-defined keywords in Python?"
      ],
      "metadata": {
        "id": "Ezhd8tGDOKlU"
      }
    },
    {
      "cell_type": "markdown",
      "source": [
        "The reserved words that have a specific meaning and purpose in python. These cannot be used as variable names or function names because they are already assinged specific operations in the language."
      ],
      "metadata": {
        "id": "Spu_9VBNOKiZ"
      }
    },
    {
      "cell_type": "markdown",
      "source": [
        "Q4. Can keywords be used as variable names?"
      ],
      "metadata": {
        "id": "8P6QUSMBOKfl"
      }
    },
    {
      "cell_type": "markdown",
      "source": [
        "No, keywords canot be used as variable names."
      ],
      "metadata": {
        "id": "SPzNKqKtOKcG"
      }
    },
    {
      "cell_type": "markdown",
      "source": [
        "Q5) What is mutability in Python?"
      ],
      "metadata": {
        "id": "sP0xzMmWOKZE"
      }
    },
    {
      "cell_type": "markdown",
      "source": [
        "Mutability refers to the ability of an object to have its value modified after its creation. Mutable objects allow changes to their identity without changing the memory address."
      ],
      "metadata": {
        "id": "JEMg23ecOKDt"
      }
    },
    {
      "cell_type": "markdown",
      "source": [
        "Q6)Why are lists mutable but, tuples are immutable?"
      ],
      "metadata": {
        "id": "EUvKuyo0Oqyv"
      }
    },
    {
      "cell_type": "markdown",
      "source": [
        "Lists are designed for use cases where elements need to be frequently modified, added or removed.\n",
        "Tuples are designed to represent a fixed collection of items that need not be changed."
      ],
      "metadata": {
        "id": "ZB_qDGrXOqvK"
      }
    },
    {
      "cell_type": "markdown",
      "source": [
        "Q7) What is the difference between “==” and “is” operators in Python?"
      ],
      "metadata": {
        "id": "Vd0UKccdOqsH"
      }
    },
    {
      "cell_type": "markdown",
      "source": [
        "The '==' operator compares the value of two objects to check if they are equal. The 'is' operator compares the identity of two objects to check if they have the smae memory location."
      ],
      "metadata": {
        "id": "EkbqoMleOqpF"
      }
    },
    {
      "cell_type": "markdown",
      "source": [
        "Q8)What are logical operators in Python?"
      ],
      "metadata": {
        "id": "V8H8wFz5OqdN"
      }
    },
    {
      "cell_type": "markdown",
      "source": [
        "Operators used to perform logical operations on boolean expressions or values are called logical operators. they allow us to combine multiple conditions together and then execute the required code based on the truthiness of the conditions."
      ],
      "metadata": {
        "id": "km1EgpFqPMSH"
      }
    },
    {
      "cell_type": "markdown",
      "source": [
        "Q9) What is type casting in python?"
      ],
      "metadata": {
        "id": "q8IdPj_kPMOp"
      }
    },
    {
      "cell_type": "markdown",
      "source": [
        "Type casting is the process of converting one data type into another. It is used when operations require variables to be of same data type."
      ],
      "metadata": {
        "id": "-LiLVaaRPMHF"
      }
    },
    {
      "cell_type": "markdown",
      "source": [
        "Q10)  what is the difference between Implicit and Explicit typecasting?"
      ],
      "metadata": {
        "id": "NQ7M_xY4PMDj"
      }
    },
    {
      "cell_type": "markdown",
      "source": [
        "When type casting is done by the python program itself, it is called implicit type casting.Example: while adding an integer and a float value the program will convert the integer to float. When programmer explicitly converts a value from one data type to another it is called explicit type casting. in explicit type casting the programmer has control over the type of conversion."
      ],
      "metadata": {
        "id": "99V5RBm_PkrQ"
      }
    },
    {
      "cell_type": "markdown",
      "source": [
        "Q11) What is the purpose of conditional statements in Python?"
      ],
      "metadata": {
        "id": "IW89NmrWPknt"
      }
    },
    {
      "cell_type": "markdown",
      "source": [
        "Conditional statements are used to perform decision making in a program. They allow us to execute specific blocks based on certain conditions making the code efficient for types of inputs."
      ],
      "metadata": {
        "id": "WHD4vZBiPklG"
      }
    },
    {
      "cell_type": "markdown",
      "source": [
        "Q12)  How does the elif statement work?"
      ],
      "metadata": {
        "id": "UeNmK1UCPkiT"
      }
    },
    {
      "cell_type": "markdown",
      "source": [
        "Elif statement is used when conditional decision making is required and we need to check multiple condition one after the other.\n",
        "\n",
        "1.Multiple conditions are written one after the other.\n",
        "\n",
        "2.The interpretor xhecks the first condition in 'if' statement. If this statment is true it is executed and rest of the conditions are skipped.\n",
        "\n",
        "3.If the 'if' statement was false we move to the next 'elif' statement and execute it if the condition given is true. If false we move to the next elif statement.\n",
        "\n",
        "4.If none of the 'if' 'elif' conditions are true we execute the 'else' block."
      ],
      "metadata": {
        "id": "n2OB1p_RPkf1"
      }
    },
    {
      "cell_type": "markdown",
      "source": [
        "Q13) What is the difference between for and while loops?"
      ],
      "metadata": {
        "id": "gNJ_B6sePkdH"
      }
    },
    {
      "cell_type": "markdown",
      "source": [
        "For loops iterate over a given range or sequence until all objects of that sequence are processed. While loops have a specified condition for execution and they continue to execute the block code as long as that condition holds true."
      ],
      "metadata": {
        "id": "SKn4dw1uPkab"
      }
    },
    {
      "cell_type": "markdown",
      "source": [
        "Q14) Describe a scenario where a while loop is more suitable than a for loop?"
      ],
      "metadata": {
        "id": "xECcC-ZDPkXf"
      }
    },
    {
      "cell_type": "markdown",
      "source": [
        "If the number of iterations depend on a condition that might change dynamically after each iteration, while loop will be preffered.\n",
        "Example: If we are decreasing a number with each iteration and we need to execute the code only when the number is positive; we can add a simple condition\n",
        "\n",
        "while(number>0)\n",
        "{\n",
        "//code\n",
        "}\n",
        "\n",
        "and desired output will be obtained."
      ],
      "metadata": {
        "id": "nLlCzmCdPkUl"
      }
    },
    {
      "cell_type": "markdown",
      "source": [
        "PRACTICAL QUESTIONS"
      ],
      "metadata": {
        "id": "0v0Ear_6PkP4"
      }
    },
    {
      "cell_type": "markdown",
      "source": [
        "1.Write a Python program to print \"Hello, World!?"
      ],
      "metadata": {
        "id": "SX32ZgvHQ0lU"
      }
    },
    {
      "cell_type": "code",
      "source": [
        "print(\"Hello World\")"
      ],
      "metadata": {
        "colab": {
          "base_uri": "https://localhost:8080/"
        },
        "id": "kQSX5C8OQ8R3",
        "outputId": "5b6845fa-ec3b-4f04-9603-76297218b9fb"
      },
      "execution_count": 1,
      "outputs": [
        {
          "output_type": "stream",
          "name": "stdout",
          "text": [
            "Hello World\n"
          ]
        }
      ]
    },
    {
      "cell_type": "markdown",
      "source": [
        "2.Write a Python program that displays your name and age?"
      ],
      "metadata": {
        "id": "nxVrvdAoRE1R"
      }
    },
    {
      "cell_type": "code",
      "execution_count": 2,
      "metadata": {
        "colab": {
          "base_uri": "https://localhost:8080/"
        },
        "id": "jRn-HQvLNmP4",
        "outputId": "299f2b0b-4e51-4149-95af-63f4ca2e6336"
      },
      "outputs": [
        {
          "output_type": "stream",
          "name": "stdout",
          "text": [
            "My name is Om\n",
            "My age is 20\n"
          ]
        }
      ],
      "source": [
        "print(\"My name is Om\")\n",
        "print(\"My age is 20\")"
      ]
    },
    {
      "cell_type": "markdown",
      "source": [
        "3.Write code to print all the pre-defined keywords in Python using the keyword library?"
      ],
      "metadata": {
        "id": "IY5DFIq2RL0E"
      }
    },
    {
      "cell_type": "code",
      "source": [
        "import keyword\n",
        "for a in keyword.kwlist:\n",
        "    print(a)"
      ],
      "metadata": {
        "colab": {
          "base_uri": "https://localhost:8080/"
        },
        "id": "_e7mZ8ihRJtQ",
        "outputId": "017d9d48-3c4a-4ca9-b837-1a31012bd8af"
      },
      "execution_count": 3,
      "outputs": [
        {
          "output_type": "stream",
          "name": "stdout",
          "text": [
            "False\n",
            "None\n",
            "True\n",
            "and\n",
            "as\n",
            "assert\n",
            "async\n",
            "await\n",
            "break\n",
            "class\n",
            "continue\n",
            "def\n",
            "del\n",
            "elif\n",
            "else\n",
            "except\n",
            "finally\n",
            "for\n",
            "from\n",
            "global\n",
            "if\n",
            "import\n",
            "in\n",
            "is\n",
            "lambda\n",
            "nonlocal\n",
            "not\n",
            "or\n",
            "pass\n",
            "raise\n",
            "return\n",
            "try\n",
            "while\n",
            "with\n",
            "yield\n"
          ]
        }
      ]
    },
    {
      "cell_type": "markdown",
      "source": [
        "4.Write a program that checks if a given word is a Python keyword?"
      ],
      "metadata": {
        "id": "JbcJpBIZRR1e"
      }
    },
    {
      "cell_type": "code",
      "source": [
        "n=input(\"Enter the word that you want to check \")\n",
        "for a in keyword.kwlist:\n",
        "    if n==a:\n",
        "        print(\"The given word is a keyword\")"
      ],
      "metadata": {
        "colab": {
          "base_uri": "https://localhost:8080/"
        },
        "id": "8xNM4XApROD4",
        "outputId": "c5985a4d-d058-4f66-999b-22acd41b27b6"
      },
      "execution_count": 6,
      "outputs": [
        {
          "output_type": "stream",
          "name": "stdout",
          "text": [
            "Enter the word that you want to check for\n",
            "The given word is a keyword\n"
          ]
        }
      ]
    },
    {
      "cell_type": "markdown",
      "source": [
        "5.Create a list and tuple in Python, and demonstrate how attempting to change an element works differently for each?"
      ],
      "metadata": {
        "id": "OdyXFnFZRe3R"
      }
    },
    {
      "cell_type": "code",
      "source": [
        "lst=[10,20,30,40]\n",
        "tup=(10,20,30,40)\n",
        "\n",
        "lst[1]=50\n",
        "print(lst[1])\n",
        "\n",
        "tup=tup[:1] + (25,) + tup[2:]\n",
        "print(tup[1])"
      ],
      "metadata": {
        "colab": {
          "base_uri": "https://localhost:8080/"
        },
        "id": "GZDpsZuURT9N",
        "outputId": "3404c141-e855-4f39-85dd-72c5859f1069"
      },
      "execution_count": 7,
      "outputs": [
        {
          "output_type": "stream",
          "name": "stdout",
          "text": [
            "50\n",
            "25\n"
          ]
        }
      ]
    },
    {
      "cell_type": "markdown",
      "source": [
        "6.Write a function to demonstrate the behavior of mutable and immutable arguments?"
      ],
      "metadata": {
        "id": "tIA7v--7Rqs3"
      }
    },
    {
      "cell_type": "code",
      "source": [
        "def modify_objects(mutable_obj, immutable_obj):\n",
        "\n",
        "    mutable_obj[0] = \"Modified\"\n",
        "    immutable_obj += 1\n",
        "\n",
        "    print(\"Inside function:\")\n",
        "    print(\"Mutable object:\", mutable_obj)\n",
        "    print(\"Immutable object:\", immutable_obj)\n",
        "\n",
        "mutable_obj = [1, 2, 3]\n",
        "immutable_obj = 10\n",
        "\n",
        "print(\"Before function call:\")\n",
        "print(\"Mutable object:\", mutable_obj)\n",
        "print(\"Immutable object:\", immutable_obj)\n",
        "\n",
        "modify_objects(mutable_obj, immutable_obj)\n",
        "\n",
        "print(\"\\nAfter function call:\")\n",
        "print(\"Mutable object:\", mutable_obj)\n",
        "print(\"Immutable object:\", immutable_obj)"
      ],
      "metadata": {
        "colab": {
          "base_uri": "https://localhost:8080/"
        },
        "id": "2L-Jd--ZRn16",
        "outputId": "607ba9a7-3f13-439e-aac2-94d6b4fcfc89"
      },
      "execution_count": 8,
      "outputs": [
        {
          "output_type": "stream",
          "name": "stdout",
          "text": [
            "Before function call:\n",
            "Mutable object: [1, 2, 3]\n",
            "Immutable object: 10\n",
            "Inside function:\n",
            "Mutable object: ['Modified', 2, 3]\n",
            "Immutable object: 11\n",
            "\n",
            "After function call:\n",
            "Mutable object: ['Modified', 2, 3]\n",
            "Immutable object: 10\n"
          ]
        }
      ]
    },
    {
      "cell_type": "markdown",
      "source": [
        "8.Write a program to demonstrate the use of logical operators?"
      ],
      "metadata": {
        "id": "O7OGWmbGRynz"
      }
    },
    {
      "cell_type": "code",
      "source": [
        "a=int(input(\"Enter first number\"))\n",
        "b=int(input(\"Enter second number\"))\n",
        "\n",
        "if a%2==0 and b%2==0:\n",
        "    print(\"Both numbers are even\")\n",
        "elif a%2==0 or b%2==0:\n",
        "    print(\"Atleast one of them even\")\n",
        "else:\n",
        "    print(\"None of them is even\")"
      ],
      "metadata": {
        "colab": {
          "base_uri": "https://localhost:8080/"
        },
        "id": "qXUa9fmbRugA",
        "outputId": "93e3c8f1-9abf-462d-f19f-f2863c16568d"
      },
      "execution_count": 9,
      "outputs": [
        {
          "output_type": "stream",
          "name": "stdout",
          "text": [
            "Enter first number5\n",
            "Enter second number7\n",
            "None of them is even\n"
          ]
        }
      ]
    },
    {
      "cell_type": "markdown",
      "source": [
        "9.Write a Python program to convert user input from string to integer, float, and boolean types?"
      ],
      "metadata": {
        "id": "KQkOB6dHR8g6"
      }
    },
    {
      "cell_type": "code",
      "source": [
        "s=str(input(\"Enter your String\"))\n",
        "a=int(s)\n",
        "b=float(s)\n",
        "c=bool(s)\n",
        "print(a)\n",
        "print(b)\n",
        "print(c)"
      ],
      "metadata": {
        "colab": {
          "base_uri": "https://localhost:8080/"
        },
        "id": "b3qH5QLKR3lk",
        "outputId": "f81f99ed-cda9-4266-bc8f-8fc5ddac0050"
      },
      "execution_count": 11,
      "outputs": [
        {
          "output_type": "stream",
          "name": "stdout",
          "text": [
            "Enter your String4\n",
            "4\n",
            "4.0\n",
            "True\n"
          ]
        }
      ]
    },
    {
      "cell_type": "markdown",
      "source": [
        "10. Write code to demonstrate type casting with list elements?"
      ],
      "metadata": {
        "id": "NbpaeL5oSFC3"
      }
    },
    {
      "cell_type": "code",
      "source": [
        "mixed_list = [1, '2', 3.0, '4.5', True]\n",
        "print(\"Original list:\", mixed_list)\n",
        "\n",
        "str_list = [str(element) for element in mixed_list]\n",
        "print(\"List after converting elements to strings:\", str_list)\n",
        "\n",
        "float_list = [float(element) for element in mixed_list]\n",
        "print(\"List after converting elements to floats:\", float_list)"
      ],
      "metadata": {
        "colab": {
          "base_uri": "https://localhost:8080/"
        },
        "id": "ulDjKLDOR-_7",
        "outputId": "44a4cb18-254d-484e-c28e-9c6f6f5faf4c"
      },
      "execution_count": 12,
      "outputs": [
        {
          "output_type": "stream",
          "name": "stdout",
          "text": [
            "Original list: [1, '2', 3.0, '4.5', True]\n",
            "List after converting elements to strings: ['1', '2', '3.0', '4.5', 'True']\n",
            "List after converting elements to floats: [1.0, 2.0, 3.0, 4.5, 1.0]\n"
          ]
        }
      ]
    },
    {
      "cell_type": "markdown",
      "source": [
        "11.Write a program that checks if a number is positive, negative, or zero?"
      ],
      "metadata": {
        "id": "oX9ZDnmuSMX_"
      }
    },
    {
      "cell_type": "code",
      "source": [
        "num=float(input(\"Enter a number\"))\n",
        "if num>0:\n",
        "    print(\"Number is positive\")\n",
        "elif num<0:\n",
        "    print(\"Number is negetive\")\n",
        "else:\n",
        "    print(\"Number is 0\")"
      ],
      "metadata": {
        "colab": {
          "base_uri": "https://localhost:8080/"
        },
        "id": "W1iMe8RCSJkP",
        "outputId": "3b8a1eb7-7320-44be-c73f-5ff9f9f1be72"
      },
      "execution_count": 13,
      "outputs": [
        {
          "output_type": "stream",
          "name": "stdout",
          "text": [
            "Enter a number7\n",
            "Number is positive\n"
          ]
        }
      ]
    },
    {
      "cell_type": "markdown",
      "source": [
        "12.Write a for loop to print numbers from 1 to 10?"
      ],
      "metadata": {
        "id": "FGmI_lhPSfv4"
      }
    },
    {
      "cell_type": "code",
      "source": [
        "a=1\n",
        "while a<11:\n",
        "    print(a)\n",
        "    a+=1"
      ],
      "metadata": {
        "colab": {
          "base_uri": "https://localhost:8080/"
        },
        "id": "GjmgG-VpSQjI",
        "outputId": "05efda53-78f8-458e-ee67-2aeb65b42172"
      },
      "execution_count": 14,
      "outputs": [
        {
          "output_type": "stream",
          "name": "stdout",
          "text": [
            "1\n",
            "2\n",
            "3\n",
            "4\n",
            "5\n",
            "6\n",
            "7\n",
            "8\n",
            "9\n",
            "10\n"
          ]
        }
      ]
    },
    {
      "cell_type": "markdown",
      "source": [
        "13.Write a Python program to find the sum of all even numbers between 1 and 50?"
      ],
      "metadata": {
        "id": "PsvfLbJHSkZF"
      }
    },
    {
      "cell_type": "code",
      "source": [
        "#a=1\n",
        "#sum=0\n",
        "#while a<51:\n",
        "#    if a%2==0:\n",
        " #       sum+=a\n",
        "#print(sum)\n",
        "\n",
        "\n",
        "#time running out in google colab"
      ],
      "metadata": {
        "id": "TvBgVXoCSi44"
      },
      "execution_count": 21,
      "outputs": []
    },
    {
      "cell_type": "markdown",
      "source": [
        "14.Write a program to reverse a string using a while loop?"
      ],
      "metadata": {
        "id": "YscO-dxUUNam"
      }
    },
    {
      "cell_type": "code",
      "source": [
        "original_string = input(\"Enter a string: \")\n",
        "\n",
        "reversed_string = \"\"\n",
        "index = len(original_string) - 1\n",
        "\n",
        "while index >= 0:\n",
        "    reversed_string += original_string[index]\n",
        "    index -= 1\n",
        "print(\"Reversed string:\", reversed_string)\n"
      ],
      "metadata": {
        "colab": {
          "base_uri": "https://localhost:8080/"
        },
        "id": "TNQjY6A-So92",
        "outputId": "0d530b6c-4fa9-4e4f-f039-af04185cc553"
      },
      "execution_count": 17,
      "outputs": [
        {
          "output_type": "stream",
          "name": "stdout",
          "text": [
            "Enter a string: ommanchanda\n",
            "Reversed string: adnahcnammo\n"
          ]
        }
      ]
    },
    {
      "cell_type": "markdown",
      "source": [
        "15..Write a Python program to calculate the factorial of a number provided by the user using a while loop?"
      ],
      "metadata": {
        "id": "2eEMl4GoUbh1"
      }
    },
    {
      "cell_type": "code",
      "source": [
        "num=int(input(\"Enter number\"))\n",
        "prod=1\n",
        "if num<0:\n",
        "    print(\"Invalid\")\n",
        "elif num==0:\n",
        "    print(\"Factorial is 1\")\n",
        "else:\n",
        "    while num>0:\n",
        "        prod=prod*num\n",
        "        num=num-1\n",
        "    print(prod)"
      ],
      "metadata": {
        "colab": {
          "base_uri": "https://localhost:8080/"
        },
        "id": "Y7SA0BmpURxJ",
        "outputId": "753dfc58-eb4f-4917-ae01-a6b3a5391d24"
      },
      "execution_count": 19,
      "outputs": [
        {
          "output_type": "stream",
          "name": "stdout",
          "text": [
            "Enter number6\n",
            "720\n"
          ]
        }
      ]
    },
    {
      "cell_type": "code",
      "source": [],
      "metadata": {
        "id": "1OoYBx1UUh2l"
      },
      "execution_count": null,
      "outputs": []
    }
  ]
}